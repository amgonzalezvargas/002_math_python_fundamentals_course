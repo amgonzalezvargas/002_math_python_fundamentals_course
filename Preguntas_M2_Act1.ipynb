{
  "nbformat": 4,
  "nbformat_minor": 0,
  "metadata": {
    "colab": {
      "provenance": []
    },
    "kernelspec": {
      "name": "python3",
      "display_name": "Python 3"
    },
    "language_info": {
      "name": "python"
    }
  },
  "cells": [
    {
      "cell_type": "markdown",
      "source": [
        "# **Evaluación - Taller 1 Módulo 2 (Introducción a Python usando librerías)**"
      ],
      "metadata": {
        "id": "oGXyv9Uyo6Vf"
      }
    },
    {
      "cell_type": "markdown",
      "source": [
        "**Herramientas Matemáticas y Computacionales para IA**\n",
        "\n",
        "> Especialización en Inteligencia Artificial  \n",
        "Facultad de Ingeniería    \n",
        "Universidad Autónoma de Occidente  \n",
        "\n"
      ],
      "metadata": {
        "id": "LJJcFFqno7VH"
      }
    },
    {
      "cell_type": "markdown",
      "source": [
        "## **Ejercicios con Numpy**"
      ],
      "metadata": {
        "id": "1Drpu58spW3G"
      }
    },
    {
      "cell_type": "markdown",
      "source": [
        "1. Importar la librería NumPy con el nombre np"
      ],
      "metadata": {
        "id": "WQraTuxIphx_"
      }
    },
    {
      "cell_type": "markdown",
      "metadata": {
        "id": "irS--Q-3WbuY"
      },
      "source": [
        "2. Crear un 1D array de números de 0 a 9"
      ]
    },
    {
      "cell_type": "markdown",
      "metadata": {
        "id": "CcdWXCmjWm-l"
      },
      "source": [
        "3. Crear un 1D array de números del 20 a 50 utilizando la función **arange**"
      ]
    },
    {
      "cell_type": "markdown",
      "metadata": {
        "id": "XujwlCyTXCdZ"
      },
      "source": [
        "4. Crear una matriz identidad de dimensión $4\\times4$"
      ]
    },
    {
      "cell_type": "markdown",
      "metadata": {
        "id": "9NO_hSHOXcTD"
      },
      "source": [
        "5. Crear una matriz de dimensión $2\\times 3$ donde cada elemento sea igual a 5"
      ]
    },
    {
      "cell_type": "markdown",
      "metadata": {
        "id": "IMiEIR2yX0MT"
      },
      "source": [
        "6. Crear un vector de 10 elementos donde cada elemento sea igual a 0"
      ]
    },
    {
      "cell_type": "markdown",
      "metadata": {
        "id": "CKj3y_qHY6hE"
      },
      "source": [
        "7. Crear un vector de 10 elementos donde todos los elementos son iguales a 0 menos el quinto, el cual debe ser igual a 1"
      ]
    },
    {
      "cell_type": "markdown",
      "metadata": {
        "id": "AEOLZaamZQi9"
      },
      "source": [
        "8. Crear una matriz de $3 \\times 3$ con valores en el rango de 0 a 8."
      ]
    },
    {
      "cell_type": "markdown",
      "metadata": {
        "id": "jRnL0zvfZqbp"
      },
      "source": [
        "9. Imprimir los elementos con valor diferente de cero del vector: $[1,2,0,0,4,0]$"
      ]
    },
    {
      "cell_type": "markdown",
      "metadata": {
        "id": "oQqKnRquZ_Tn"
      },
      "source": [
        "10. Crear una matriz de $10 \\times 10$ con valores aleatorios"
      ]
    },
    {
      "cell_type": "markdown",
      "metadata": {
        "id": "qgczOe8-aSoJ"
      },
      "source": [
        "11. Crear una matriz de $5 \\times 5$ donde los elementos del borde sean iguales a 1 y el resto sean iguales a 0"
      ]
    },
    {
      "cell_type": "markdown",
      "metadata": {
        "id": "wZo0M1D8apYz"
      },
      "source": [
        "12. Crear e imprimir el tercer elemento del vector : $[1,2,3,4,5]$"
      ]
    },
    {
      "cell_type": "markdown",
      "metadata": {
        "id": "hN8wtoaFbd4s"
      },
      "source": [
        "13. Crear e imprimir el elemento con valor igual a 50 de la matriz:\n",
        "$A =\n",
        "\\begin{bmatrix}\n",
        "10 & 20 & 30 & 40 \\\\\n",
        "50 & 60 & 70 & 80\n",
        "\\end{bmatrix}\n",
        "$"
      ]
    },
    {
      "cell_type": "markdown",
      "metadata": {
        "id": "t07TJohscEh8"
      },
      "source": [
        "14. Crear e imprimir los elementos comprendidos entre el segundo elemento (incluido) y el quinto elemento (no incluido) del vector $[10, 15, 20, 25, 30, 35, 40]$"
      ]
    },
    {
      "cell_type": "markdown",
      "metadata": {
        "id": "r8DW6Rekc18K"
      },
      "source": [
        "15. Crear e imprimir los elementos comprendidos entre el tercer elemento (incluido) y el quinto elemento (no incluido) del vector $[10, 15, 20, 25, 30, 35, 40]$"
      ]
    },
    {
      "cell_type": "markdown",
      "metadata": {
        "id": "8SwMeVPWdKw1"
      },
      "source": [
        "16. Crear e imprimir los elementos comprendidos entre el sexto elemento (no incluido) y el septimo elemento (incluido) del vector $[10, 15, 20, 25, 30, 35, 40]$"
      ]
    },
    {
      "cell_type": "markdown",
      "metadata": {
        "id": "HHcrp2Amd4y4"
      },
      "source": [
        "17. Crear dos arreglos con shape(1,3) y (3,1). Luego realizar la suma entre ellos usando un ciclo for."
      ]
    },
    {
      "cell_type": "markdown",
      "metadata": {
        "id": "STnRZlyZAguG"
      },
      "source": [
        "18. Crear una matriz de dimension $3 \\times 4$ cuyos elementos tienen valores entre 10 y 21."
      ]
    },
    {
      "cell_type": "markdown",
      "metadata": {
        "id": "vcZcKavSAguH"
      },
      "source": [
        "19. Crear una matriz de dimension $n \\times n$ y encontrar el numero de filas y columnas"
      ]
    },
    {
      "cell_type": "markdown",
      "metadata": {
        "id": "abI_rjQbAguI"
      },
      "source": [
        "20. Crear un arreglo de unidimensional a partir de una lista."
      ]
    },
    {
      "cell_type": "markdown",
      "metadata": {
        "id": "8JaXhPQOAguI"
      },
      "source": [
        "## **Ejercicios con Pandas**"
      ]
    },
    {
      "cell_type": "markdown",
      "metadata": {
        "id": "wdvxU-FqAguJ"
      },
      "source": [
        "\n",
        "\n",
        "1. Importar Pandas e imprimir el número de la versión\n",
        "\n"
      ]
    },
    {
      "cell_type": "markdown",
      "source": [
        "2. Crear una serie de pandas a partir de cada uno de los elementos siguientes: una lista, un arreglo de numpy y un diccionario"
      ],
      "metadata": {
        "id": "pAGyl-vYAzMp"
      }
    },
    {
      "cell_type": "markdown",
      "source": [
        "3. Dada una serie de pandas, obtenter la correspondiente serie de pandas sólo con índices impares"
      ],
      "metadata": {
        "id": "I7PtKNaWBP2g"
      }
    },
    {
      "cell_type": "markdown",
      "source": [
        "4. Dado el archivo CSV llamado Automobile_data.csv, leerlo en un dataframe y mostrarlo"
      ],
      "metadata": {
        "id": "e2VVuYxOB2Jg"
      }
    },
    {
      "cell_type": "markdown",
      "source": [
        "5. Usar el dataframe del ejercicio anterior para imprimir las cinco primeras y últimas filas"
      ],
      "metadata": {
        "id": "mnbuCJ44CbXI"
      }
    },
    {
      "cell_type": "markdown",
      "source": [
        "6. Con base en el dataframe del ejercicio 4, eliminar las filas que contengan valores de ?, n.a, o NaN en alguna de sus columnas."
      ],
      "metadata": {
        "id": "UNLPBgYiDFFg"
      }
    },
    {
      "cell_type": "markdown",
      "source": [
        "7. Con base en el dataframe del ejercicio 4, Encontrar el nombre de la empresa de automóviles más cara."
      ],
      "metadata": {
        "id": "RCo9EySDDFMA"
      }
    },
    {
      "cell_type": "markdown",
      "source": [
        "8. Con base en el dataframe del ejercicio 4, imprimir todos los detalles de los carros marca Toyota"
      ],
      "metadata": {
        "id": "Pilx0DuNEIg5"
      }
    },
    {
      "cell_type": "markdown",
      "source": [
        "9. Con base en el dataframe del ejercicio 4, Contar el total de carros por empresa."
      ],
      "metadata": {
        "id": "SxhLJELNEbUx"
      }
    },
    {
      "cell_type": "markdown",
      "source": [
        "10. Con base en el dataframe del ejercicio 4, encuentre el carro de precio más alto de cada empresa."
      ],
      "metadata": {
        "id": "hyC7OWU2FHMw"
      }
    },
    {
      "cell_type": "markdown",
      "source": [
        "## **Ejercicios de Matplotlib**"
      ],
      "metadata": {
        "id": "EhbUPQiNFpN5"
      }
    },
    {
      "cell_type": "markdown",
      "source": [
        "1. Crear un archivo CSV con el siguiente contenido:\n",
        "\n",
        "Date,Open,High,Low,Close\n",
        "\n",
        "10-03-16,774.25,776.065002,769.5,772.559998\n",
        "\n",
        "10-04-16,776.030029,778.710022,772.890015,776.429993\n",
        "\n",
        "10-05-16,779.309998,782.070007,775.650024,776.469971\n",
        "\n",
        "10-06-16,779,780.47998,775.539978,776.859985\n",
        "\n",
        "10-07-16,779.659973,779.659973,770.75,775.080017\n",
        "\n",
        "\n",
        "Este hace referencia a datos financieros de una compañia. Escriba un programa en Python para dibujar gráficos de líneas de los datos financieros entre el 3 de octubre de 2016 y el 7 de octubre de 2016."
      ],
      "metadata": {
        "id": "PZtvh1IUF065"
      }
    },
    {
      "cell_type": "markdown",
      "source": [
        "2. Escribir un programa en Python para mostrar la cuadrícula (grid) y dibujar gráficos de líneas del valor de cierre de los datos del ejercicio anterior entre el 3 de octubre de 2016 y el 7 de octubre de 2016. Personalice las líneas de la cuadrícula (grid) con el estilo de línea -, el ancho 0.5. y el color azul."
      ],
      "metadata": {
        "id": "rQfjB61JG8BR"
      }
    },
    {
      "cell_type": "markdown",
      "source": [
        "3. Use el archivo llamdo company_sales_data.csv para los siguientes ejercicios:\n",
        "\n",
        "\n",
        "\n",
        "\n",
        "\n",
        "\n"
      ],
      "metadata": {
        "id": "zxyCSebFIACS"
      }
    },
    {
      "cell_type": "markdown",
      "source": [
        "a) Obtenga el beneficio total de todos los meses y muestre un gráfico de líneas con las siguientes propiedades de estilo:\n",
        "* Estilo de línea punteada y Color de línea debe ser rojo\n",
        "* Mostrar la leyenda en la parte inferior derecha.\n",
        "* Nombre de la etiqueta X = Número de mes\n",
        "* Nombre de la etiqueta Y = Número de unidades vendidas\n",
        "* Añadir un marcador de círculo.\n",
        "* Color del marcador de línea como se lee\n",
        "* El ancho de la línea debe ser 3\n",
        "\n",
        "\n"
      ],
      "metadata": {
        "id": "ZZWrtVW5JUph"
      }
    },
    {
      "cell_type": "markdown",
      "source": [
        "b) Leer los datos de las ventas de crema para dientes de cada mes y mostrarlos mediante un gráfico de dispersión (scatterplot). Además, añada una cuadrícula (grid) en el gráfico. El estilo de la cuadrícula (grid) debe ser \"-\".\n",
        "\n",
        "\n"
      ],
      "metadata": {
        "id": "mvoGlk67KHDx"
      }
    },
    {
      "cell_type": "markdown",
      "source": [
        "c)  Leer el jabón de baño y el lavado de cara de todos los meses y visualícelo mediante el tipo de grafico Subplot"
      ],
      "metadata": {
        "id": "hHs87BY6KI2L"
      }
    }
  ]
}