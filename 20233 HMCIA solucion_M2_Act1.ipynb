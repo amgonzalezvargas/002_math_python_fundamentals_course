{
  "nbformat": 4,
  "nbformat_minor": 0,
  "metadata": {
    "colab": {
      "provenance": []
    },
    "kernelspec": {
      "name": "python3",
      "display_name": "Python 3"
    },
    "language_info": {
      "name": "python"
    }
  },
  "cells": [
    {
      "cell_type": "markdown",
      "source": [
        "# **Evaluación - Taller 1 Módulo 2 (Introducción a Python usando librerías)**"
      ],
      "metadata": {
        "id": "oGXyv9Uyo6Vf"
      }
    },
    {
      "cell_type": "markdown",
      "source": [
        "**Herramientas Matemáticas y Computacionales para IA**\n",
        "\n",
        "> Especialización en Inteligencia Artificial  \n",
        "Facultad de Ingeniería    \n",
        "Universidad Autónoma de Occidente  \n",
        "\n"
      ],
      "metadata": {
        "id": "LJJcFFqno7VH"
      }
    },
    {
      "cell_type": "markdown",
      "source": [
        "## **Ejercicios con Numpy**"
      ],
      "metadata": {
        "id": "1Drpu58spW3G"
      }
    },
    {
      "cell_type": "markdown",
      "source": [
        "1. Importar la librería NumPy con el nombre np"
      ],
      "metadata": {
        "id": "WQraTuxIphx_"
      }
    },
    {
      "cell_type": "code",
      "source": [
        "import numpy as np"
      ],
      "metadata": {
        "id": "5Knj1tAzpvnM"
      },
      "execution_count": null,
      "outputs": []
    },
    {
      "cell_type": "markdown",
      "metadata": {
        "id": "irS--Q-3WbuY"
      },
      "source": [
        "2. Crear un 1D array de números de 0 a 9"
      ]
    },
    {
      "cell_type": "code",
      "source": [
        "array = np.array([0, 1, 2, 3, 4, 5, 6, 7, 8, 9])\n",
        "array"
      ],
      "metadata": {
        "colab": {
          "base_uri": "https://localhost:8080/"
        },
        "id": "s3SgxBR_qN7V",
        "outputId": "e5ba09aa-8ac6-49f2-faf1-db79c57111c4"
      },
      "execution_count": null,
      "outputs": [
        {
          "output_type": "execute_result",
          "data": {
            "text/plain": [
              "array([0, 1, 2, 3, 4, 5, 6, 7, 8, 9])"
            ]
          },
          "metadata": {},
          "execution_count": 249
        }
      ]
    },
    {
      "cell_type": "markdown",
      "metadata": {
        "id": "CcdWXCmjWm-l"
      },
      "source": [
        "3. Crear un 1D array de números del 20 a 50 utilizando la función **arange**"
      ]
    },
    {
      "cell_type": "code",
      "source": [
        "array = np.arange(20, 51)\n",
        "array"
      ],
      "metadata": {
        "colab": {
          "base_uri": "https://localhost:8080/"
        },
        "id": "kFURCymGrEAD",
        "outputId": "c296b5b0-2c9f-4bbf-be2a-a172e071e284"
      },
      "execution_count": null,
      "outputs": [
        {
          "output_type": "execute_result",
          "data": {
            "text/plain": [
              "array([20, 21, 22, 23, 24, 25, 26, 27, 28, 29, 30, 31, 32, 33, 34, 35, 36,\n",
              "       37, 38, 39, 40, 41, 42, 43, 44, 45, 46, 47, 48, 49, 50])"
            ]
          },
          "metadata": {},
          "execution_count": 250
        }
      ]
    },
    {
      "cell_type": "markdown",
      "metadata": {
        "id": "XujwlCyTXCdZ"
      },
      "source": [
        "4. Crear una matriz identidad de dimensión $4\\times4$"
      ]
    },
    {
      "cell_type": "code",
      "source": [
        "matriz = np.identity(4)\n",
        "matriz"
      ],
      "metadata": {
        "colab": {
          "base_uri": "https://localhost:8080/"
        },
        "id": "D9XQVzjFrXdp",
        "outputId": "cb77b908-1d30-451a-e437-3500f5566798"
      },
      "execution_count": null,
      "outputs": [
        {
          "output_type": "execute_result",
          "data": {
            "text/plain": [
              "array([[1., 0., 0., 0.],\n",
              "       [0., 1., 0., 0.],\n",
              "       [0., 0., 1., 0.],\n",
              "       [0., 0., 0., 1.]])"
            ]
          },
          "metadata": {},
          "execution_count": 251
        }
      ]
    },
    {
      "cell_type": "markdown",
      "metadata": {
        "id": "9NO_hSHOXcTD"
      },
      "source": [
        "5. Crear una matriz de dimensión $2\\times 3$ donde cada elemento sea igual a 5"
      ]
    },
    {
      "cell_type": "code",
      "source": [
        "matriz = np.full((2, 3), 5)\n",
        "matriz"
      ],
      "metadata": {
        "colab": {
          "base_uri": "https://localhost:8080/"
        },
        "id": "a1Y0D2bUsK2W",
        "outputId": "4707fa71-2c54-4cc8-bf75-fe2bd8bc56cd"
      },
      "execution_count": null,
      "outputs": [
        {
          "output_type": "execute_result",
          "data": {
            "text/plain": [
              "array([[5, 5, 5],\n",
              "       [5, 5, 5]])"
            ]
          },
          "metadata": {},
          "execution_count": 252
        }
      ]
    },
    {
      "cell_type": "markdown",
      "metadata": {
        "id": "IMiEIR2yX0MT"
      },
      "source": [
        "6. Crear un vector de 10 elementos donde cada elemento sea igual a 0"
      ]
    },
    {
      "cell_type": "code",
      "source": [
        "vector = np.zeros(10)\n",
        "vector"
      ],
      "metadata": {
        "colab": {
          "base_uri": "https://localhost:8080/"
        },
        "id": "jb6LRs75suPq",
        "outputId": "2c262556-5181-4bb3-ed83-25c211d7fc6e"
      },
      "execution_count": null,
      "outputs": [
        {
          "output_type": "execute_result",
          "data": {
            "text/plain": [
              "array([0., 0., 0., 0., 0., 0., 0., 0., 0., 0.])"
            ]
          },
          "metadata": {},
          "execution_count": 253
        }
      ]
    },
    {
      "cell_type": "markdown",
      "metadata": {
        "id": "CKj3y_qHY6hE"
      },
      "source": [
        "7. Crear un vector de 10 elementos donde todos los elementos son iguales a 0 menos el quinto, el cual debe ser igual a 1"
      ]
    },
    {
      "cell_type": "code",
      "source": [
        "vector = np.zeros(10)\n",
        "vector[4] = 1\n",
        "vector"
      ],
      "metadata": {
        "colab": {
          "base_uri": "https://localhost:8080/"
        },
        "id": "HO6HKitks9Ej",
        "outputId": "2528e044-2979-4dba-ba07-7e81a4a1252c"
      },
      "execution_count": null,
      "outputs": [
        {
          "output_type": "execute_result",
          "data": {
            "text/plain": [
              "array([0., 0., 0., 0., 1., 0., 0., 0., 0., 0.])"
            ]
          },
          "metadata": {},
          "execution_count": 254
        }
      ]
    },
    {
      "cell_type": "markdown",
      "metadata": {
        "id": "AEOLZaamZQi9"
      },
      "source": [
        "8. Crear una matriz de $3 \\times 3$ con valores en el rango de 0 a 8."
      ]
    },
    {
      "cell_type": "code",
      "source": [
        "matriz = np.arange(9).reshape(3, 3)\n",
        "matriz"
      ],
      "metadata": {
        "colab": {
          "base_uri": "https://localhost:8080/"
        },
        "id": "f0cih4oZtlGi",
        "outputId": "56be3cd4-4862-4132-f3e1-b06191777cbf"
      },
      "execution_count": null,
      "outputs": [
        {
          "output_type": "execute_result",
          "data": {
            "text/plain": [
              "array([[0, 1, 2],\n",
              "       [3, 4, 5],\n",
              "       [6, 7, 8]])"
            ]
          },
          "metadata": {},
          "execution_count": 255
        }
      ]
    },
    {
      "cell_type": "markdown",
      "metadata": {
        "id": "jRnL0zvfZqbp"
      },
      "source": [
        "9. Imprimir los elementos con valor diferente de cero del vector: $[1,2,0,0,4,0]$"
      ]
    },
    {
      "cell_type": "code",
      "source": [
        "array = np.array([1, 2, 0, 0, 4, 0])\n",
        "print(array[array != 0])"
      ],
      "metadata": {
        "colab": {
          "base_uri": "https://localhost:8080/"
        },
        "id": "Lmtx-NhAuTDU",
        "outputId": "d1d7f59c-bcdd-44ed-dc05-ad02d322ab51"
      },
      "execution_count": null,
      "outputs": [
        {
          "output_type": "stream",
          "name": "stdout",
          "text": [
            "[1 2 4]\n"
          ]
        }
      ]
    },
    {
      "cell_type": "markdown",
      "metadata": {
        "id": "oQqKnRquZ_Tn"
      },
      "source": [
        "10. Crear una matriz de $10 \\times 10$ con valores aleatorios"
      ]
    },
    {
      "cell_type": "code",
      "source": [
        "matriz = np.random.rand(10, 10)\n",
        "matriz"
      ],
      "metadata": {
        "colab": {
          "base_uri": "https://localhost:8080/"
        },
        "id": "MIkLa6T8u_vY",
        "outputId": "982ac0ea-2ee6-4841-cfd6-8433abdbafdd"
      },
      "execution_count": null,
      "outputs": [
        {
          "output_type": "execute_result",
          "data": {
            "text/plain": [
              "array([[0.63011539, 0.76281034, 0.07304286, 0.42103511, 0.30601166,\n",
              "        0.92596701, 0.98985849, 0.34162874, 0.69922496, 0.02182658],\n",
              "       [0.49972962, 0.36833574, 0.55009553, 0.13627579, 0.52162541,\n",
              "        0.3407715 , 0.40166289, 0.78988787, 0.46702844, 0.28855097],\n",
              "       [0.80110907, 0.03947851, 0.24342209, 0.42851928, 0.85403269,\n",
              "        0.42505503, 0.10513981, 0.55471935, 0.22236148, 0.69979591],\n",
              "       [0.70033536, 0.64208547, 0.54061004, 0.12051333, 0.48841029,\n",
              "        0.8483573 , 0.75433406, 0.82361504, 0.64519408, 0.36165275],\n",
              "       [0.96166799, 0.57162625, 0.73325579, 0.66208558, 0.13417222,\n",
              "        0.53706925, 0.09677606, 0.72447277, 0.41732887, 0.63290746],\n",
              "       [0.19744343, 0.33295173, 0.64218505, 0.10405751, 0.8574446 ,\n",
              "        0.04993898, 0.73865696, 0.86763907, 0.55856564, 0.26853349],\n",
              "       [0.93953972, 0.97967959, 0.22360417, 0.66068416, 0.23530343,\n",
              "        0.62434737, 0.31029858, 0.00605227, 0.7069176 , 0.57031385],\n",
              "       [0.56193888, 0.40193353, 0.30243187, 0.81656879, 0.53112347,\n",
              "        0.24133004, 0.94849527, 0.79669361, 0.67398551, 0.42942449],\n",
              "       [0.51429649, 0.28339517, 0.54400721, 0.37273052, 0.11215294,\n",
              "        0.9952103 , 0.3812216 , 0.57128916, 0.5114434 , 0.95803667],\n",
              "       [0.57781657, 0.14246532, 0.26506534, 0.8622887 , 0.90677772,\n",
              "        0.2350243 , 0.10389996, 0.2137171 , 0.65191809, 0.68366854]])"
            ]
          },
          "metadata": {},
          "execution_count": 257
        }
      ]
    },
    {
      "cell_type": "markdown",
      "metadata": {
        "id": "qgczOe8-aSoJ"
      },
      "source": [
        "11. Crear una matriz de $5 \\times 5$ donde los elementos del borde sean iguales a 1 y el resto sean iguales a 0"
      ]
    },
    {
      "cell_type": "code",
      "source": [
        "matriz = np.ones((5, 5))\n",
        "matriz[1:matriz.shape[0]-1, 1:matriz.shape[1]-1] = 0\n",
        "matriz"
      ],
      "metadata": {
        "colab": {
          "base_uri": "https://localhost:8080/"
        },
        "id": "YuuBrpbcvBtp",
        "outputId": "40fa5ee1-9dd1-485b-b00c-f383c7f8b09d"
      },
      "execution_count": null,
      "outputs": [
        {
          "output_type": "execute_result",
          "data": {
            "text/plain": [
              "array([[1., 1., 1., 1., 1.],\n",
              "       [1., 0., 0., 0., 1.],\n",
              "       [1., 0., 0., 0., 1.],\n",
              "       [1., 0., 0., 0., 1.],\n",
              "       [1., 1., 1., 1., 1.]])"
            ]
          },
          "metadata": {},
          "execution_count": 258
        }
      ]
    },
    {
      "cell_type": "markdown",
      "metadata": {
        "id": "wZo0M1D8apYz"
      },
      "source": [
        "12. Crear e imprimir el tercer elemento del vector : $[1,2,3,4,5]$"
      ]
    },
    {
      "cell_type": "code",
      "source": [
        "vector = np.arange(1, 6)\n",
        "print(vector[2])"
      ],
      "metadata": {
        "colab": {
          "base_uri": "https://localhost:8080/"
        },
        "id": "Ngt7b6Cdw7Lj",
        "outputId": "0dd8b8d7-9373-4041-dc15-69d31f6dacc4"
      },
      "execution_count": null,
      "outputs": [
        {
          "output_type": "stream",
          "name": "stdout",
          "text": [
            "3\n"
          ]
        }
      ]
    },
    {
      "cell_type": "markdown",
      "metadata": {
        "id": "hN8wtoaFbd4s"
      },
      "source": [
        "13. Crear e imprimir el elemento con valor igual a 50 de la matriz: \n",
        "$A =\n",
        "\\begin{bmatrix}\n",
        "10 & 20 & 30 & 40 \\\\\n",
        "50 & 60 & 70 & 80\n",
        "\\end{bmatrix}\n",
        "$"
      ]
    },
    {
      "cell_type": "code",
      "source": [
        "matriz = np.arange(10, 81, 10).reshape(2, 4)\n",
        "print(matriz[1, 0])"
      ],
      "metadata": {
        "colab": {
          "base_uri": "https://localhost:8080/"
        },
        "id": "3ZANq4iwxQUg",
        "outputId": "a280cdd2-a399-4cd7-b958-7d9adecd0c50"
      },
      "execution_count": null,
      "outputs": [
        {
          "output_type": "stream",
          "name": "stdout",
          "text": [
            "50\n"
          ]
        }
      ]
    },
    {
      "cell_type": "markdown",
      "metadata": {
        "id": "t07TJohscEh8"
      },
      "source": [
        "14. Crear e imprimir los elementos comprendidos entre el segundo elemento (incluido) y el quinto elemento (no incluido) del vector $[10, 15, 20, 25, 30, 35, 40]$"
      ]
    },
    {
      "cell_type": "code",
      "source": [
        "vector = np.arange(10, 41, 5)\n",
        "print(vector[1:4])"
      ],
      "metadata": {
        "colab": {
          "base_uri": "https://localhost:8080/"
        },
        "id": "oQGmp4MryIAq",
        "outputId": "03f452e6-d84b-470a-e4cf-cf6cbcecc681"
      },
      "execution_count": null,
      "outputs": [
        {
          "output_type": "stream",
          "name": "stdout",
          "text": [
            "[15 20 25]\n"
          ]
        }
      ]
    },
    {
      "cell_type": "markdown",
      "metadata": {
        "id": "r8DW6Rekc18K"
      },
      "source": [
        "15. Crear e imprimir los elementos comprendidos entre el tercer elemento (incluido) y el quinto elemento (no incluido) del vector $[10, 15, 20, 25, 30, 35, 40]$"
      ]
    },
    {
      "cell_type": "code",
      "source": [
        "vector = np.arange(10, 41, 5)\n",
        "print(vector[2:4])"
      ],
      "metadata": {
        "colab": {
          "base_uri": "https://localhost:8080/"
        },
        "id": "Iw5k0udZy9ma",
        "outputId": "f808ee24-992f-4faf-d72c-89c155938861"
      },
      "execution_count": null,
      "outputs": [
        {
          "output_type": "stream",
          "name": "stdout",
          "text": [
            "[20 25]\n"
          ]
        }
      ]
    },
    {
      "cell_type": "markdown",
      "metadata": {
        "id": "8SwMeVPWdKw1"
      },
      "source": [
        "16. Crear e imprimir los elementos comprendidos entre el sexto elemento (no incluido) y el septimo elemento (incluido) del vector $[10, 15, 20, 25, 30, 35, 40]$"
      ]
    },
    {
      "cell_type": "code",
      "source": [
        "vector = np.arange(10, 41, 5)\n",
        "print(vector[6:7])"
      ],
      "metadata": {
        "colab": {
          "base_uri": "https://localhost:8080/"
        },
        "id": "R16PCW8ZzV3U",
        "outputId": "9ffb0733-6cff-4752-a369-f5e30232b61d"
      },
      "execution_count": null,
      "outputs": [
        {
          "output_type": "stream",
          "name": "stdout",
          "text": [
            "[40]\n"
          ]
        }
      ]
    },
    {
      "cell_type": "markdown",
      "metadata": {
        "id": "HHcrp2Amd4y4"
      },
      "source": [
        "17. Crear dos arreglos con shape(1,3) y (3,1). Luego realizar la suma entre ellos usando un ciclo for."
      ]
    },
    {
      "cell_type": "code",
      "source": [
        "array_1 = np.array([[53, -64, 15]])\n",
        "print(array_1.shape)\n",
        "array_2 = np.array([[17],\n",
        "                    [-81],\n",
        "                    [29]])\n",
        "print(array_2.shape)\n",
        "for i in array_1:\n",
        "    for j in array_2:\n",
        "        print(i + j)"
      ],
      "metadata": {
        "colab": {
          "base_uri": "https://localhost:8080/"
        },
        "id": "FlXWB-YOzrKe",
        "outputId": "f9b97886-4e0f-49eb-eaf8-b814713d1a58"
      },
      "execution_count": null,
      "outputs": [
        {
          "output_type": "stream",
          "name": "stdout",
          "text": [
            "(1, 3)\n",
            "(3, 1)\n",
            "[ 70 -47  32]\n",
            "[ -28 -145  -66]\n",
            "[ 82 -35  44]\n"
          ]
        }
      ]
    },
    {
      "cell_type": "markdown",
      "metadata": {
        "id": "STnRZlyZAguG"
      },
      "source": [
        "18. Crear una matriz de dimension $3 \\times 4$ cuyos elementos tienen valores entre 10 y 21."
      ]
    },
    {
      "cell_type": "code",
      "source": [
        "rng = np.random.default_rng()\n",
        "matriz = rng.integers(11, high=21, size=(3, 4))\n",
        "matriz"
      ],
      "metadata": {
        "colab": {
          "base_uri": "https://localhost:8080/"
        },
        "id": "9mhZDz6b3gO5",
        "outputId": "f983afa1-0b65-4dde-8451-0a13e457a60a"
      },
      "execution_count": null,
      "outputs": [
        {
          "output_type": "execute_result",
          "data": {
            "text/plain": [
              "array([[20, 15, 15, 14],\n",
              "       [19, 17, 12, 17],\n",
              "       [20, 17, 20, 12]])"
            ]
          },
          "metadata": {},
          "execution_count": 265
        }
      ]
    },
    {
      "cell_type": "markdown",
      "metadata": {
        "id": "vcZcKavSAguH"
      },
      "source": [
        "19. Crear una matriz de dimension $n \\times n$ y encontrar el numero de filas y columnas"
      ]
    },
    {
      "cell_type": "code",
      "source": [
        "n = rng.integers(100)\n",
        "matriz = np.ones((n, n))\n",
        "print(matriz)\n",
        "print(\"Filas:\", matriz.shape[0], \", Columnas:\", matriz.shape[1])"
      ],
      "metadata": {
        "colab": {
          "base_uri": "https://localhost:8080/"
        },
        "id": "8tQMFuGJ5PVE",
        "outputId": "49bd0c8f-a3c0-4726-ebd7-84b80eb1f198"
      },
      "execution_count": null,
      "outputs": [
        {
          "output_type": "stream",
          "name": "stdout",
          "text": [
            "[[1. 1. 1. ... 1. 1. 1.]\n",
            " [1. 1. 1. ... 1. 1. 1.]\n",
            " [1. 1. 1. ... 1. 1. 1.]\n",
            " ...\n",
            " [1. 1. 1. ... 1. 1. 1.]\n",
            " [1. 1. 1. ... 1. 1. 1.]\n",
            " [1. 1. 1. ... 1. 1. 1.]]\n",
            "Filas: 76 , Columnas: 76\n"
          ]
        }
      ]
    },
    {
      "cell_type": "markdown",
      "metadata": {
        "id": "abI_rjQbAguI"
      },
      "source": [
        "20. Crear un arreglo de unidimensional a partir de una lista."
      ]
    },
    {
      "cell_type": "code",
      "source": [
        "array = np.array([2, 4, 6, 8, 10, 12, 14, 16, 18, 20])\n",
        "array"
      ],
      "metadata": {
        "colab": {
          "base_uri": "https://localhost:8080/"
        },
        "id": "Ko_X1MaZ8sOF",
        "outputId": "b4559840-28d5-40fc-c24a-744629f4ff52"
      },
      "execution_count": null,
      "outputs": [
        {
          "output_type": "execute_result",
          "data": {
            "text/plain": [
              "array([ 2,  4,  6,  8, 10, 12, 14, 16, 18, 20])"
            ]
          },
          "metadata": {},
          "execution_count": 267
        }
      ]
    },
    {
      "cell_type": "markdown",
      "metadata": {
        "id": "8JaXhPQOAguI"
      },
      "source": [
        "## **Ejercicios con Pandas**"
      ]
    },
    {
      "cell_type": "markdown",
      "metadata": {
        "id": "wdvxU-FqAguJ"
      },
      "source": [
        "\n",
        "\n",
        "1. Importar Pandas e imprimir el número de la versión\n",
        "\n"
      ]
    },
    {
      "cell_type": "code",
      "source": [
        "import pandas as pd\n",
        "print(pd.__version__)"
      ],
      "metadata": {
        "colab": {
          "base_uri": "https://localhost:8080/"
        },
        "id": "UdOOE4Qo9NAY",
        "outputId": "cb3e6dc8-3373-4839-e861-ae2bff5d1273"
      },
      "execution_count": null,
      "outputs": [
        {
          "output_type": "stream",
          "name": "stdout",
          "text": [
            "1.3.5\n"
          ]
        }
      ]
    },
    {
      "cell_type": "markdown",
      "source": [
        "2. Crear una serie de pandas a partir de cada uno de los elementos siguientes: una lista, un arreglo de numpy y un diccionario"
      ],
      "metadata": {
        "id": "pAGyl-vYAzMp"
      }
    },
    {
      "cell_type": "code",
      "source": [
        "lista = [13, -36, 2, 46, -72, 39, -92, 5]\n",
        "serie_1 = pd.Series(lista)\n",
        "print(serie_1)\n",
        "array_numpy = np.linspace(-50, 50, 6)\n",
        "serie_2 = pd.Series(array_numpy)\n",
        "print(serie_2)\n",
        "diccionario = {'z': 15, 'x': 26, 'y': 34}\n",
        "serie_3 = pd.Series(diccionario)\n",
        "print(serie_3)"
      ],
      "metadata": {
        "colab": {
          "base_uri": "https://localhost:8080/"
        },
        "id": "AoIgQWFJ9W7d",
        "outputId": "b658d182-ae9a-4c3f-f8cd-ebdf4e8c4ea7"
      },
      "execution_count": null,
      "outputs": [
        {
          "output_type": "stream",
          "name": "stdout",
          "text": [
            "0    13\n",
            "1   -36\n",
            "2     2\n",
            "3    46\n",
            "4   -72\n",
            "5    39\n",
            "6   -92\n",
            "7     5\n",
            "dtype: int64\n",
            "0   -50.0\n",
            "1   -30.0\n",
            "2   -10.0\n",
            "3    10.0\n",
            "4    30.0\n",
            "5    50.0\n",
            "dtype: float64\n",
            "z    15\n",
            "x    26\n",
            "y    34\n",
            "dtype: int64\n"
          ]
        }
      ]
    },
    {
      "cell_type": "markdown",
      "source": [
        "3. Dada una serie de pandas, obtenter la correspondiente serie de pandas sólo con índices impares"
      ],
      "metadata": {
        "id": "I7PtKNaWBP2g"
      }
    },
    {
      "cell_type": "code",
      "source": [
        "serie = pd.Series(['f', 't', 'p', 's', 'a', 'n', 'c', 'w', 'q', 'k', 'b'])\n",
        "serie = serie[serie.index % 2 != 0]\n",
        "serie"
      ],
      "metadata": {
        "colab": {
          "base_uri": "https://localhost:8080/"
        },
        "id": "C5Vfp_P7-0En",
        "outputId": "1e5992e0-61da-4216-bf27-06c5cc1ecc57"
      },
      "execution_count": null,
      "outputs": [
        {
          "output_type": "execute_result",
          "data": {
            "text/plain": [
              "1    t\n",
              "3    s\n",
              "5    n\n",
              "7    w\n",
              "9    k\n",
              "dtype: object"
            ]
          },
          "metadata": {},
          "execution_count": 270
        }
      ]
    },
    {
      "cell_type": "markdown",
      "source": [
        "4. Dado el archivo CSV llamado Automobile_data.csv, leerlo en un dataframe y mostrarlo"
      ],
      "metadata": {
        "id": "e2VVuYxOB2Jg"
      }
    },
    {
      "cell_type": "code",
      "source": [
        "dataframe = pd.read_csv('Automobile_data.csv', index_col=\"index\")\n",
        "dataframe"
      ],
      "metadata": {
        "colab": {
          "base_uri": "https://localhost:8080/",
          "height": 455
        },
        "id": "BUXN75xe_2oL",
        "outputId": "7f16dab2-9f2b-4be9-bac3-d12f5c44686c"
      },
      "execution_count": null,
      "outputs": [
        {
          "output_type": "execute_result",
          "data": {
            "text/plain": [
              "           company   body-style  wheel-base  length engine-type  \\\n",
              "index                                                             \n",
              "0      alfa-romero  convertible        88.6   168.8        dohc   \n",
              "1      alfa-romero  convertible        88.6   168.8        dohc   \n",
              "2      alfa-romero    hatchback        94.5   171.2        ohcv   \n",
              "3             audi        sedan        99.8   176.6         ohc   \n",
              "4             audi        sedan        99.4   176.6         ohc   \n",
              "...            ...          ...         ...     ...         ...   \n",
              "81      volkswagen        sedan        97.3   171.7         ohc   \n",
              "82      volkswagen        sedan        97.3   171.7         ohc   \n",
              "86      volkswagen        sedan        97.3   171.7         ohc   \n",
              "87           volvo        sedan       104.3   188.8         ohc   \n",
              "88           volvo        wagon       104.3   188.8         ohc   \n",
              "\n",
              "      num-of-cylinders  horsepower  average-mileage    price  \n",
              "index                                                         \n",
              "0                 four         111               21  13495.0  \n",
              "1                 four         111               21  16500.0  \n",
              "2                  six         154               19  16500.0  \n",
              "3                 four         102               24  13950.0  \n",
              "4                 five         115               18  17450.0  \n",
              "...                ...         ...              ...      ...  \n",
              "81                four          85               27   7975.0  \n",
              "82                four          52               37   7995.0  \n",
              "86                four         100               26   9995.0  \n",
              "87                four         114               23  12940.0  \n",
              "88                four         114               23  13415.0  \n",
              "\n",
              "[61 rows x 9 columns]"
            ],
            "text/html": [
              "\n",
              "  <div id=\"df-97d21781-0d67-4f2e-b058-5b1e848fc2c8\">\n",
              "    <div class=\"colab-df-container\">\n",
              "      <div>\n",
              "<style scoped>\n",
              "    .dataframe tbody tr th:only-of-type {\n",
              "        vertical-align: middle;\n",
              "    }\n",
              "\n",
              "    .dataframe tbody tr th {\n",
              "        vertical-align: top;\n",
              "    }\n",
              "\n",
              "    .dataframe thead th {\n",
              "        text-align: right;\n",
              "    }\n",
              "</style>\n",
              "<table border=\"1\" class=\"dataframe\">\n",
              "  <thead>\n",
              "    <tr style=\"text-align: right;\">\n",
              "      <th></th>\n",
              "      <th>company</th>\n",
              "      <th>body-style</th>\n",
              "      <th>wheel-base</th>\n",
              "      <th>length</th>\n",
              "      <th>engine-type</th>\n",
              "      <th>num-of-cylinders</th>\n",
              "      <th>horsepower</th>\n",
              "      <th>average-mileage</th>\n",
              "      <th>price</th>\n",
              "    </tr>\n",
              "    <tr>\n",
              "      <th>index</th>\n",
              "      <th></th>\n",
              "      <th></th>\n",
              "      <th></th>\n",
              "      <th></th>\n",
              "      <th></th>\n",
              "      <th></th>\n",
              "      <th></th>\n",
              "      <th></th>\n",
              "      <th></th>\n",
              "    </tr>\n",
              "  </thead>\n",
              "  <tbody>\n",
              "    <tr>\n",
              "      <th>0</th>\n",
              "      <td>alfa-romero</td>\n",
              "      <td>convertible</td>\n",
              "      <td>88.6</td>\n",
              "      <td>168.8</td>\n",
              "      <td>dohc</td>\n",
              "      <td>four</td>\n",
              "      <td>111</td>\n",
              "      <td>21</td>\n",
              "      <td>13495.0</td>\n",
              "    </tr>\n",
              "    <tr>\n",
              "      <th>1</th>\n",
              "      <td>alfa-romero</td>\n",
              "      <td>convertible</td>\n",
              "      <td>88.6</td>\n",
              "      <td>168.8</td>\n",
              "      <td>dohc</td>\n",
              "      <td>four</td>\n",
              "      <td>111</td>\n",
              "      <td>21</td>\n",
              "      <td>16500.0</td>\n",
              "    </tr>\n",
              "    <tr>\n",
              "      <th>2</th>\n",
              "      <td>alfa-romero</td>\n",
              "      <td>hatchback</td>\n",
              "      <td>94.5</td>\n",
              "      <td>171.2</td>\n",
              "      <td>ohcv</td>\n",
              "      <td>six</td>\n",
              "      <td>154</td>\n",
              "      <td>19</td>\n",
              "      <td>16500.0</td>\n",
              "    </tr>\n",
              "    <tr>\n",
              "      <th>3</th>\n",
              "      <td>audi</td>\n",
              "      <td>sedan</td>\n",
              "      <td>99.8</td>\n",
              "      <td>176.6</td>\n",
              "      <td>ohc</td>\n",
              "      <td>four</td>\n",
              "      <td>102</td>\n",
              "      <td>24</td>\n",
              "      <td>13950.0</td>\n",
              "    </tr>\n",
              "    <tr>\n",
              "      <th>4</th>\n",
              "      <td>audi</td>\n",
              "      <td>sedan</td>\n",
              "      <td>99.4</td>\n",
              "      <td>176.6</td>\n",
              "      <td>ohc</td>\n",
              "      <td>five</td>\n",
              "      <td>115</td>\n",
              "      <td>18</td>\n",
              "      <td>17450.0</td>\n",
              "    </tr>\n",
              "    <tr>\n",
              "      <th>...</th>\n",
              "      <td>...</td>\n",
              "      <td>...</td>\n",
              "      <td>...</td>\n",
              "      <td>...</td>\n",
              "      <td>...</td>\n",
              "      <td>...</td>\n",
              "      <td>...</td>\n",
              "      <td>...</td>\n",
              "      <td>...</td>\n",
              "    </tr>\n",
              "    <tr>\n",
              "      <th>81</th>\n",
              "      <td>volkswagen</td>\n",
              "      <td>sedan</td>\n",
              "      <td>97.3</td>\n",
              "      <td>171.7</td>\n",
              "      <td>ohc</td>\n",
              "      <td>four</td>\n",
              "      <td>85</td>\n",
              "      <td>27</td>\n",
              "      <td>7975.0</td>\n",
              "    </tr>\n",
              "    <tr>\n",
              "      <th>82</th>\n",
              "      <td>volkswagen</td>\n",
              "      <td>sedan</td>\n",
              "      <td>97.3</td>\n",
              "      <td>171.7</td>\n",
              "      <td>ohc</td>\n",
              "      <td>four</td>\n",
              "      <td>52</td>\n",
              "      <td>37</td>\n",
              "      <td>7995.0</td>\n",
              "    </tr>\n",
              "    <tr>\n",
              "      <th>86</th>\n",
              "      <td>volkswagen</td>\n",
              "      <td>sedan</td>\n",
              "      <td>97.3</td>\n",
              "      <td>171.7</td>\n",
              "      <td>ohc</td>\n",
              "      <td>four</td>\n",
              "      <td>100</td>\n",
              "      <td>26</td>\n",
              "      <td>9995.0</td>\n",
              "    </tr>\n",
              "    <tr>\n",
              "      <th>87</th>\n",
              "      <td>volvo</td>\n",
              "      <td>sedan</td>\n",
              "      <td>104.3</td>\n",
              "      <td>188.8</td>\n",
              "      <td>ohc</td>\n",
              "      <td>four</td>\n",
              "      <td>114</td>\n",
              "      <td>23</td>\n",
              "      <td>12940.0</td>\n",
              "    </tr>\n",
              "    <tr>\n",
              "      <th>88</th>\n",
              "      <td>volvo</td>\n",
              "      <td>wagon</td>\n",
              "      <td>104.3</td>\n",
              "      <td>188.8</td>\n",
              "      <td>ohc</td>\n",
              "      <td>four</td>\n",
              "      <td>114</td>\n",
              "      <td>23</td>\n",
              "      <td>13415.0</td>\n",
              "    </tr>\n",
              "  </tbody>\n",
              "</table>\n",
              "<p>61 rows × 9 columns</p>\n",
              "</div>\n",
              "      <button class=\"colab-df-convert\" onclick=\"convertToInteractive('df-97d21781-0d67-4f2e-b058-5b1e848fc2c8')\"\n",
              "              title=\"Convert this dataframe to an interactive table.\"\n",
              "              style=\"display:none;\">\n",
              "        \n",
              "  <svg xmlns=\"http://www.w3.org/2000/svg\" height=\"24px\"viewBox=\"0 0 24 24\"\n",
              "       width=\"24px\">\n",
              "    <path d=\"M0 0h24v24H0V0z\" fill=\"none\"/>\n",
              "    <path d=\"M18.56 5.44l.94 2.06.94-2.06 2.06-.94-2.06-.94-.94-2.06-.94 2.06-2.06.94zm-11 1L8.5 8.5l.94-2.06 2.06-.94-2.06-.94L8.5 2.5l-.94 2.06-2.06.94zm10 10l.94 2.06.94-2.06 2.06-.94-2.06-.94-.94-2.06-.94 2.06-2.06.94z\"/><path d=\"M17.41 7.96l-1.37-1.37c-.4-.4-.92-.59-1.43-.59-.52 0-1.04.2-1.43.59L10.3 9.45l-7.72 7.72c-.78.78-.78 2.05 0 2.83L4 21.41c.39.39.9.59 1.41.59.51 0 1.02-.2 1.41-.59l7.78-7.78 2.81-2.81c.8-.78.8-2.07 0-2.86zM5.41 20L4 18.59l7.72-7.72 1.47 1.35L5.41 20z\"/>\n",
              "  </svg>\n",
              "      </button>\n",
              "      \n",
              "  <style>\n",
              "    .colab-df-container {\n",
              "      display:flex;\n",
              "      flex-wrap:wrap;\n",
              "      gap: 12px;\n",
              "    }\n",
              "\n",
              "    .colab-df-convert {\n",
              "      background-color: #E8F0FE;\n",
              "      border: none;\n",
              "      border-radius: 50%;\n",
              "      cursor: pointer;\n",
              "      display: none;\n",
              "      fill: #1967D2;\n",
              "      height: 32px;\n",
              "      padding: 0 0 0 0;\n",
              "      width: 32px;\n",
              "    }\n",
              "\n",
              "    .colab-df-convert:hover {\n",
              "      background-color: #E2EBFA;\n",
              "      box-shadow: 0px 1px 2px rgba(60, 64, 67, 0.3), 0px 1px 3px 1px rgba(60, 64, 67, 0.15);\n",
              "      fill: #174EA6;\n",
              "    }\n",
              "\n",
              "    [theme=dark] .colab-df-convert {\n",
              "      background-color: #3B4455;\n",
              "      fill: #D2E3FC;\n",
              "    }\n",
              "\n",
              "    [theme=dark] .colab-df-convert:hover {\n",
              "      background-color: #434B5C;\n",
              "      box-shadow: 0px 1px 3px 1px rgba(0, 0, 0, 0.15);\n",
              "      filter: drop-shadow(0px 1px 2px rgba(0, 0, 0, 0.3));\n",
              "      fill: #FFFFFF;\n",
              "    }\n",
              "  </style>\n",
              "\n",
              "      <script>\n",
              "        const buttonEl =\n",
              "          document.querySelector('#df-97d21781-0d67-4f2e-b058-5b1e848fc2c8 button.colab-df-convert');\n",
              "        buttonEl.style.display =\n",
              "          google.colab.kernel.accessAllowed ? 'block' : 'none';\n",
              "\n",
              "        async function convertToInteractive(key) {\n",
              "          const element = document.querySelector('#df-97d21781-0d67-4f2e-b058-5b1e848fc2c8');\n",
              "          const dataTable =\n",
              "            await google.colab.kernel.invokeFunction('convertToInteractive',\n",
              "                                                     [key], {});\n",
              "          if (!dataTable) return;\n",
              "\n",
              "          const docLinkHtml = 'Like what you see? Visit the ' +\n",
              "            '<a target=\"_blank\" href=https://colab.research.google.com/notebooks/data_table.ipynb>data table notebook</a>'\n",
              "            + ' to learn more about interactive tables.';\n",
              "          element.innerHTML = '';\n",
              "          dataTable['output_type'] = 'display_data';\n",
              "          await google.colab.output.renderOutput(dataTable, element);\n",
              "          const docLink = document.createElement('div');\n",
              "          docLink.innerHTML = docLinkHtml;\n",
              "          element.appendChild(docLink);\n",
              "        }\n",
              "      </script>\n",
              "    </div>\n",
              "  </div>\n",
              "  "
            ]
          },
          "metadata": {},
          "execution_count": 271
        }
      ]
    },
    {
      "cell_type": "markdown",
      "source": [
        "5. Usar el dataframe del ejercicio anterior para imprimir las cinco primeras y últimas filas"
      ],
      "metadata": {
        "id": "mnbuCJ44CbXI"
      }
    },
    {
      "cell_type": "code",
      "source": [
        "display(dataframe.head())\n",
        "display(dataframe.tail())"
      ],
      "metadata": {
        "colab": {
          "base_uri": "https://localhost:8080/",
          "height": 458
        },
        "id": "m6ACYxUDAbib",
        "outputId": "c2bf57d8-f731-42fd-8720-7e5d1d6384e3"
      },
      "execution_count": null,
      "outputs": [
        {
          "output_type": "display_data",
          "data": {
            "text/plain": [
              "           company   body-style  wheel-base  length engine-type  \\\n",
              "index                                                             \n",
              "0      alfa-romero  convertible        88.6   168.8        dohc   \n",
              "1      alfa-romero  convertible        88.6   168.8        dohc   \n",
              "2      alfa-romero    hatchback        94.5   171.2        ohcv   \n",
              "3             audi        sedan        99.8   176.6         ohc   \n",
              "4             audi        sedan        99.4   176.6         ohc   \n",
              "\n",
              "      num-of-cylinders  horsepower  average-mileage    price  \n",
              "index                                                         \n",
              "0                 four         111               21  13495.0  \n",
              "1                 four         111               21  16500.0  \n",
              "2                  six         154               19  16500.0  \n",
              "3                 four         102               24  13950.0  \n",
              "4                 five         115               18  17450.0  "
            ],
            "text/html": [
              "\n",
              "  <div id=\"df-29d0e8e2-8f68-40a3-957e-92b64d9ba013\">\n",
              "    <div class=\"colab-df-container\">\n",
              "      <div>\n",
              "<style scoped>\n",
              "    .dataframe tbody tr th:only-of-type {\n",
              "        vertical-align: middle;\n",
              "    }\n",
              "\n",
              "    .dataframe tbody tr th {\n",
              "        vertical-align: top;\n",
              "    }\n",
              "\n",
              "    .dataframe thead th {\n",
              "        text-align: right;\n",
              "    }\n",
              "</style>\n",
              "<table border=\"1\" class=\"dataframe\">\n",
              "  <thead>\n",
              "    <tr style=\"text-align: right;\">\n",
              "      <th></th>\n",
              "      <th>company</th>\n",
              "      <th>body-style</th>\n",
              "      <th>wheel-base</th>\n",
              "      <th>length</th>\n",
              "      <th>engine-type</th>\n",
              "      <th>num-of-cylinders</th>\n",
              "      <th>horsepower</th>\n",
              "      <th>average-mileage</th>\n",
              "      <th>price</th>\n",
              "    </tr>\n",
              "    <tr>\n",
              "      <th>index</th>\n",
              "      <th></th>\n",
              "      <th></th>\n",
              "      <th></th>\n",
              "      <th></th>\n",
              "      <th></th>\n",
              "      <th></th>\n",
              "      <th></th>\n",
              "      <th></th>\n",
              "      <th></th>\n",
              "    </tr>\n",
              "  </thead>\n",
              "  <tbody>\n",
              "    <tr>\n",
              "      <th>0</th>\n",
              "      <td>alfa-romero</td>\n",
              "      <td>convertible</td>\n",
              "      <td>88.6</td>\n",
              "      <td>168.8</td>\n",
              "      <td>dohc</td>\n",
              "      <td>four</td>\n",
              "      <td>111</td>\n",
              "      <td>21</td>\n",
              "      <td>13495.0</td>\n",
              "    </tr>\n",
              "    <tr>\n",
              "      <th>1</th>\n",
              "      <td>alfa-romero</td>\n",
              "      <td>convertible</td>\n",
              "      <td>88.6</td>\n",
              "      <td>168.8</td>\n",
              "      <td>dohc</td>\n",
              "      <td>four</td>\n",
              "      <td>111</td>\n",
              "      <td>21</td>\n",
              "      <td>16500.0</td>\n",
              "    </tr>\n",
              "    <tr>\n",
              "      <th>2</th>\n",
              "      <td>alfa-romero</td>\n",
              "      <td>hatchback</td>\n",
              "      <td>94.5</td>\n",
              "      <td>171.2</td>\n",
              "      <td>ohcv</td>\n",
              "      <td>six</td>\n",
              "      <td>154</td>\n",
              "      <td>19</td>\n",
              "      <td>16500.0</td>\n",
              "    </tr>\n",
              "    <tr>\n",
              "      <th>3</th>\n",
              "      <td>audi</td>\n",
              "      <td>sedan</td>\n",
              "      <td>99.8</td>\n",
              "      <td>176.6</td>\n",
              "      <td>ohc</td>\n",
              "      <td>four</td>\n",
              "      <td>102</td>\n",
              "      <td>24</td>\n",
              "      <td>13950.0</td>\n",
              "    </tr>\n",
              "    <tr>\n",
              "      <th>4</th>\n",
              "      <td>audi</td>\n",
              "      <td>sedan</td>\n",
              "      <td>99.4</td>\n",
              "      <td>176.6</td>\n",
              "      <td>ohc</td>\n",
              "      <td>five</td>\n",
              "      <td>115</td>\n",
              "      <td>18</td>\n",
              "      <td>17450.0</td>\n",
              "    </tr>\n",
              "  </tbody>\n",
              "</table>\n",
              "</div>\n",
              "      <button class=\"colab-df-convert\" onclick=\"convertToInteractive('df-29d0e8e2-8f68-40a3-957e-92b64d9ba013')\"\n",
              "              title=\"Convert this dataframe to an interactive table.\"\n",
              "              style=\"display:none;\">\n",
              "        \n",
              "  <svg xmlns=\"http://www.w3.org/2000/svg\" height=\"24px\"viewBox=\"0 0 24 24\"\n",
              "       width=\"24px\">\n",
              "    <path d=\"M0 0h24v24H0V0z\" fill=\"none\"/>\n",
              "    <path d=\"M18.56 5.44l.94 2.06.94-2.06 2.06-.94-2.06-.94-.94-2.06-.94 2.06-2.06.94zm-11 1L8.5 8.5l.94-2.06 2.06-.94-2.06-.94L8.5 2.5l-.94 2.06-2.06.94zm10 10l.94 2.06.94-2.06 2.06-.94-2.06-.94-.94-2.06-.94 2.06-2.06.94z\"/><path d=\"M17.41 7.96l-1.37-1.37c-.4-.4-.92-.59-1.43-.59-.52 0-1.04.2-1.43.59L10.3 9.45l-7.72 7.72c-.78.78-.78 2.05 0 2.83L4 21.41c.39.39.9.59 1.41.59.51 0 1.02-.2 1.41-.59l7.78-7.78 2.81-2.81c.8-.78.8-2.07 0-2.86zM5.41 20L4 18.59l7.72-7.72 1.47 1.35L5.41 20z\"/>\n",
              "  </svg>\n",
              "      </button>\n",
              "      \n",
              "  <style>\n",
              "    .colab-df-container {\n",
              "      display:flex;\n",
              "      flex-wrap:wrap;\n",
              "      gap: 12px;\n",
              "    }\n",
              "\n",
              "    .colab-df-convert {\n",
              "      background-color: #E8F0FE;\n",
              "      border: none;\n",
              "      border-radius: 50%;\n",
              "      cursor: pointer;\n",
              "      display: none;\n",
              "      fill: #1967D2;\n",
              "      height: 32px;\n",
              "      padding: 0 0 0 0;\n",
              "      width: 32px;\n",
              "    }\n",
              "\n",
              "    .colab-df-convert:hover {\n",
              "      background-color: #E2EBFA;\n",
              "      box-shadow: 0px 1px 2px rgba(60, 64, 67, 0.3), 0px 1px 3px 1px rgba(60, 64, 67, 0.15);\n",
              "      fill: #174EA6;\n",
              "    }\n",
              "\n",
              "    [theme=dark] .colab-df-convert {\n",
              "      background-color: #3B4455;\n",
              "      fill: #D2E3FC;\n",
              "    }\n",
              "\n",
              "    [theme=dark] .colab-df-convert:hover {\n",
              "      background-color: #434B5C;\n",
              "      box-shadow: 0px 1px 3px 1px rgba(0, 0, 0, 0.15);\n",
              "      filter: drop-shadow(0px 1px 2px rgba(0, 0, 0, 0.3));\n",
              "      fill: #FFFFFF;\n",
              "    }\n",
              "  </style>\n",
              "\n",
              "      <script>\n",
              "        const buttonEl =\n",
              "          document.querySelector('#df-29d0e8e2-8f68-40a3-957e-92b64d9ba013 button.colab-df-convert');\n",
              "        buttonEl.style.display =\n",
              "          google.colab.kernel.accessAllowed ? 'block' : 'none';\n",
              "\n",
              "        async function convertToInteractive(key) {\n",
              "          const element = document.querySelector('#df-29d0e8e2-8f68-40a3-957e-92b64d9ba013');\n",
              "          const dataTable =\n",
              "            await google.colab.kernel.invokeFunction('convertToInteractive',\n",
              "                                                     [key], {});\n",
              "          if (!dataTable) return;\n",
              "\n",
              "          const docLinkHtml = 'Like what you see? Visit the ' +\n",
              "            '<a target=\"_blank\" href=https://colab.research.google.com/notebooks/data_table.ipynb>data table notebook</a>'\n",
              "            + ' to learn more about interactive tables.';\n",
              "          element.innerHTML = '';\n",
              "          dataTable['output_type'] = 'display_data';\n",
              "          await google.colab.output.renderOutput(dataTable, element);\n",
              "          const docLink = document.createElement('div');\n",
              "          docLink.innerHTML = docLinkHtml;\n",
              "          element.appendChild(docLink);\n",
              "        }\n",
              "      </script>\n",
              "    </div>\n",
              "  </div>\n",
              "  "
            ]
          },
          "metadata": {}
        },
        {
          "output_type": "display_data",
          "data": {
            "text/plain": [
              "          company body-style  wheel-base  length engine-type num-of-cylinders  \\\n",
              "index                                                                           \n",
              "81     volkswagen      sedan        97.3   171.7         ohc             four   \n",
              "82     volkswagen      sedan        97.3   171.7         ohc             four   \n",
              "86     volkswagen      sedan        97.3   171.7         ohc             four   \n",
              "87          volvo      sedan       104.3   188.8         ohc             four   \n",
              "88          volvo      wagon       104.3   188.8         ohc             four   \n",
              "\n",
              "       horsepower  average-mileage    price  \n",
              "index                                        \n",
              "81             85               27   7975.0  \n",
              "82             52               37   7995.0  \n",
              "86            100               26   9995.0  \n",
              "87            114               23  12940.0  \n",
              "88            114               23  13415.0  "
            ],
            "text/html": [
              "\n",
              "  <div id=\"df-5a36417b-c35e-4868-bfb7-9e2af49f4014\">\n",
              "    <div class=\"colab-df-container\">\n",
              "      <div>\n",
              "<style scoped>\n",
              "    .dataframe tbody tr th:only-of-type {\n",
              "        vertical-align: middle;\n",
              "    }\n",
              "\n",
              "    .dataframe tbody tr th {\n",
              "        vertical-align: top;\n",
              "    }\n",
              "\n",
              "    .dataframe thead th {\n",
              "        text-align: right;\n",
              "    }\n",
              "</style>\n",
              "<table border=\"1\" class=\"dataframe\">\n",
              "  <thead>\n",
              "    <tr style=\"text-align: right;\">\n",
              "      <th></th>\n",
              "      <th>company</th>\n",
              "      <th>body-style</th>\n",
              "      <th>wheel-base</th>\n",
              "      <th>length</th>\n",
              "      <th>engine-type</th>\n",
              "      <th>num-of-cylinders</th>\n",
              "      <th>horsepower</th>\n",
              "      <th>average-mileage</th>\n",
              "      <th>price</th>\n",
              "    </tr>\n",
              "    <tr>\n",
              "      <th>index</th>\n",
              "      <th></th>\n",
              "      <th></th>\n",
              "      <th></th>\n",
              "      <th></th>\n",
              "      <th></th>\n",
              "      <th></th>\n",
              "      <th></th>\n",
              "      <th></th>\n",
              "      <th></th>\n",
              "    </tr>\n",
              "  </thead>\n",
              "  <tbody>\n",
              "    <tr>\n",
              "      <th>81</th>\n",
              "      <td>volkswagen</td>\n",
              "      <td>sedan</td>\n",
              "      <td>97.3</td>\n",
              "      <td>171.7</td>\n",
              "      <td>ohc</td>\n",
              "      <td>four</td>\n",
              "      <td>85</td>\n",
              "      <td>27</td>\n",
              "      <td>7975.0</td>\n",
              "    </tr>\n",
              "    <tr>\n",
              "      <th>82</th>\n",
              "      <td>volkswagen</td>\n",
              "      <td>sedan</td>\n",
              "      <td>97.3</td>\n",
              "      <td>171.7</td>\n",
              "      <td>ohc</td>\n",
              "      <td>four</td>\n",
              "      <td>52</td>\n",
              "      <td>37</td>\n",
              "      <td>7995.0</td>\n",
              "    </tr>\n",
              "    <tr>\n",
              "      <th>86</th>\n",
              "      <td>volkswagen</td>\n",
              "      <td>sedan</td>\n",
              "      <td>97.3</td>\n",
              "      <td>171.7</td>\n",
              "      <td>ohc</td>\n",
              "      <td>four</td>\n",
              "      <td>100</td>\n",
              "      <td>26</td>\n",
              "      <td>9995.0</td>\n",
              "    </tr>\n",
              "    <tr>\n",
              "      <th>87</th>\n",
              "      <td>volvo</td>\n",
              "      <td>sedan</td>\n",
              "      <td>104.3</td>\n",
              "      <td>188.8</td>\n",
              "      <td>ohc</td>\n",
              "      <td>four</td>\n",
              "      <td>114</td>\n",
              "      <td>23</td>\n",
              "      <td>12940.0</td>\n",
              "    </tr>\n",
              "    <tr>\n",
              "      <th>88</th>\n",
              "      <td>volvo</td>\n",
              "      <td>wagon</td>\n",
              "      <td>104.3</td>\n",
              "      <td>188.8</td>\n",
              "      <td>ohc</td>\n",
              "      <td>four</td>\n",
              "      <td>114</td>\n",
              "      <td>23</td>\n",
              "      <td>13415.0</td>\n",
              "    </tr>\n",
              "  </tbody>\n",
              "</table>\n",
              "</div>\n",
              "      <button class=\"colab-df-convert\" onclick=\"convertToInteractive('df-5a36417b-c35e-4868-bfb7-9e2af49f4014')\"\n",
              "              title=\"Convert this dataframe to an interactive table.\"\n",
              "              style=\"display:none;\">\n",
              "        \n",
              "  <svg xmlns=\"http://www.w3.org/2000/svg\" height=\"24px\"viewBox=\"0 0 24 24\"\n",
              "       width=\"24px\">\n",
              "    <path d=\"M0 0h24v24H0V0z\" fill=\"none\"/>\n",
              "    <path d=\"M18.56 5.44l.94 2.06.94-2.06 2.06-.94-2.06-.94-.94-2.06-.94 2.06-2.06.94zm-11 1L8.5 8.5l.94-2.06 2.06-.94-2.06-.94L8.5 2.5l-.94 2.06-2.06.94zm10 10l.94 2.06.94-2.06 2.06-.94-2.06-.94-.94-2.06-.94 2.06-2.06.94z\"/><path d=\"M17.41 7.96l-1.37-1.37c-.4-.4-.92-.59-1.43-.59-.52 0-1.04.2-1.43.59L10.3 9.45l-7.72 7.72c-.78.78-.78 2.05 0 2.83L4 21.41c.39.39.9.59 1.41.59.51 0 1.02-.2 1.41-.59l7.78-7.78 2.81-2.81c.8-.78.8-2.07 0-2.86zM5.41 20L4 18.59l7.72-7.72 1.47 1.35L5.41 20z\"/>\n",
              "  </svg>\n",
              "      </button>\n",
              "      \n",
              "  <style>\n",
              "    .colab-df-container {\n",
              "      display:flex;\n",
              "      flex-wrap:wrap;\n",
              "      gap: 12px;\n",
              "    }\n",
              "\n",
              "    .colab-df-convert {\n",
              "      background-color: #E8F0FE;\n",
              "      border: none;\n",
              "      border-radius: 50%;\n",
              "      cursor: pointer;\n",
              "      display: none;\n",
              "      fill: #1967D2;\n",
              "      height: 32px;\n",
              "      padding: 0 0 0 0;\n",
              "      width: 32px;\n",
              "    }\n",
              "\n",
              "    .colab-df-convert:hover {\n",
              "      background-color: #E2EBFA;\n",
              "      box-shadow: 0px 1px 2px rgba(60, 64, 67, 0.3), 0px 1px 3px 1px rgba(60, 64, 67, 0.15);\n",
              "      fill: #174EA6;\n",
              "    }\n",
              "\n",
              "    [theme=dark] .colab-df-convert {\n",
              "      background-color: #3B4455;\n",
              "      fill: #D2E3FC;\n",
              "    }\n",
              "\n",
              "    [theme=dark] .colab-df-convert:hover {\n",
              "      background-color: #434B5C;\n",
              "      box-shadow: 0px 1px 3px 1px rgba(0, 0, 0, 0.15);\n",
              "      filter: drop-shadow(0px 1px 2px rgba(0, 0, 0, 0.3));\n",
              "      fill: #FFFFFF;\n",
              "    }\n",
              "  </style>\n",
              "\n",
              "      <script>\n",
              "        const buttonEl =\n",
              "          document.querySelector('#df-5a36417b-c35e-4868-bfb7-9e2af49f4014 button.colab-df-convert');\n",
              "        buttonEl.style.display =\n",
              "          google.colab.kernel.accessAllowed ? 'block' : 'none';\n",
              "\n",
              "        async function convertToInteractive(key) {\n",
              "          const element = document.querySelector('#df-5a36417b-c35e-4868-bfb7-9e2af49f4014');\n",
              "          const dataTable =\n",
              "            await google.colab.kernel.invokeFunction('convertToInteractive',\n",
              "                                                     [key], {});\n",
              "          if (!dataTable) return;\n",
              "\n",
              "          const docLinkHtml = 'Like what you see? Visit the ' +\n",
              "            '<a target=\"_blank\" href=https://colab.research.google.com/notebooks/data_table.ipynb>data table notebook</a>'\n",
              "            + ' to learn more about interactive tables.';\n",
              "          element.innerHTML = '';\n",
              "          dataTable['output_type'] = 'display_data';\n",
              "          await google.colab.output.renderOutput(dataTable, element);\n",
              "          const docLink = document.createElement('div');\n",
              "          docLink.innerHTML = docLinkHtml;\n",
              "          element.appendChild(docLink);\n",
              "        }\n",
              "      </script>\n",
              "    </div>\n",
              "  </div>\n",
              "  "
            ]
          },
          "metadata": {}
        }
      ]
    },
    {
      "cell_type": "markdown",
      "source": [
        "6. Con base en el dataframe del ejercicio 4, eliminar las filas que contengan valores de ?, n.a, o NaN en alguna de sus columnas."
      ],
      "metadata": {
        "id": "UNLPBgYiDFFg"
      }
    },
    {
      "cell_type": "code",
      "source": [
        "dataframe.dropna(inplace=True)\n",
        "dataframe.reset_index(drop=True, inplace=True)\n",
        "dataframe"
      ],
      "metadata": {
        "colab": {
          "base_uri": "https://localhost:8080/",
          "height": 1000
        },
        "id": "q7NUyLIKA40d",
        "outputId": "ec756031-0785-4388-ce35-3e72e506e4e5"
      },
      "execution_count": null,
      "outputs": [
        {
          "output_type": "execute_result",
          "data": {
            "text/plain": [
              "          company   body-style  wheel-base  length engine-type  \\\n",
              "0     alfa-romero  convertible        88.6   168.8        dohc   \n",
              "1     alfa-romero  convertible        88.6   168.8        dohc   \n",
              "2     alfa-romero    hatchback        94.5   171.2        ohcv   \n",
              "3            audi        sedan        99.8   176.6         ohc   \n",
              "4            audi        sedan        99.4   176.6         ohc   \n",
              "5            audi        sedan        99.8   177.3         ohc   \n",
              "6            audi        wagon       105.8   192.7         ohc   \n",
              "7             bmw        sedan       101.2   176.8         ohc   \n",
              "8             bmw        sedan       101.2   176.8         ohc   \n",
              "9             bmw        sedan       101.2   176.8         ohc   \n",
              "10            bmw        sedan       103.5   189.0         ohc   \n",
              "11            bmw        sedan       103.5   193.8         ohc   \n",
              "12            bmw        sedan       110.0   197.0         ohc   \n",
              "13      chevrolet    hatchback        88.4   141.1           l   \n",
              "14      chevrolet    hatchback        94.5   155.9         ohc   \n",
              "15      chevrolet        sedan        94.5   158.8         ohc   \n",
              "16          dodge    hatchback        93.7   157.3         ohc   \n",
              "17          dodge    hatchback        93.7   157.3         ohc   \n",
              "18          honda        wagon        96.5   157.1         ohc   \n",
              "19          honda        sedan        96.5   175.4         ohc   \n",
              "20          honda        sedan        96.5   169.1         ohc   \n",
              "21          isuzu        sedan        94.3   170.7         ohc   \n",
              "22         jaguar        sedan       113.0   199.6        dohc   \n",
              "23         jaguar        sedan       113.0   199.6        dohc   \n",
              "24         jaguar        sedan       102.0   191.7        ohcv   \n",
              "25          mazda    hatchback        93.1   159.1         ohc   \n",
              "26          mazda    hatchback        93.1   159.1         ohc   \n",
              "27          mazda    hatchback        93.1   159.1         ohc   \n",
              "28          mazda    hatchback        95.3   169.0       rotor   \n",
              "29          mazda        sedan       104.9   175.0         ohc   \n",
              "30  mercedes-benz        sedan       110.0   190.9         ohc   \n",
              "31  mercedes-benz        wagon       110.0   190.9         ohc   \n",
              "32  mercedes-benz        sedan       120.9   208.1        ohcv   \n",
              "33  mercedes-benz      hardtop       112.0   199.2        ohcv   \n",
              "34     mitsubishi    hatchback        93.7   157.3         ohc   \n",
              "35     mitsubishi    hatchback        93.7   157.3         ohc   \n",
              "36     mitsubishi        sedan        96.3   172.4         ohc   \n",
              "37     mitsubishi        sedan        96.3   172.4         ohc   \n",
              "38         nissan        sedan        94.5   165.3         ohc   \n",
              "39         nissan        sedan        94.5   165.3         ohc   \n",
              "40         nissan        sedan        94.5   165.3         ohc   \n",
              "41         nissan        wagon        94.5   170.2         ohc   \n",
              "42         nissan        sedan       100.4   184.6        ohcv   \n",
              "43        porsche      hardtop        89.5   168.9        ohcf   \n",
              "44        porsche  convertible        89.5   168.9        ohcf   \n",
              "45         toyota    hatchback        95.7   158.7         ohc   \n",
              "46         toyota    hatchback        95.7   158.7         ohc   \n",
              "47         toyota    hatchback        95.7   158.7         ohc   \n",
              "48         toyota        wagon        95.7   169.7         ohc   \n",
              "49         toyota        wagon        95.7   169.7         ohc   \n",
              "50         toyota        wagon        95.7   169.7         ohc   \n",
              "51         toyota        wagon       104.5   187.8        dohc   \n",
              "52     volkswagen        sedan        97.3   171.7         ohc   \n",
              "53     volkswagen        sedan        97.3   171.7         ohc   \n",
              "54     volkswagen        sedan        97.3   171.7         ohc   \n",
              "55     volkswagen        sedan        97.3   171.7         ohc   \n",
              "56          volvo        sedan       104.3   188.8         ohc   \n",
              "57          volvo        wagon       104.3   188.8         ohc   \n",
              "\n",
              "   num-of-cylinders  horsepower  average-mileage    price  \n",
              "0              four         111               21  13495.0  \n",
              "1              four         111               21  16500.0  \n",
              "2               six         154               19  16500.0  \n",
              "3              four         102               24  13950.0  \n",
              "4              five         115               18  17450.0  \n",
              "5              five         110               19  15250.0  \n",
              "6              five         110               19  18920.0  \n",
              "7              four         101               23  16430.0  \n",
              "8              four         101               23  16925.0  \n",
              "9               six         121               21  20970.0  \n",
              "10              six         182               16  30760.0  \n",
              "11              six         182               16  41315.0  \n",
              "12              six         182               15  36880.0  \n",
              "13            three          48               47   5151.0  \n",
              "14             four          70               38   6295.0  \n",
              "15             four          70               38   6575.0  \n",
              "16             four          68               31   6377.0  \n",
              "17             four          68               31   6229.0  \n",
              "18             four          76               30   7295.0  \n",
              "19             four         101               24  12945.0  \n",
              "20             four         100               25  10345.0  \n",
              "21             four          78               24   6785.0  \n",
              "22              six         176               15  32250.0  \n",
              "23              six         176               15  35550.0  \n",
              "24           twelve         262               13  36000.0  \n",
              "25             four          68               30   5195.0  \n",
              "26             four          68               31   6095.0  \n",
              "27             four          68               31   6795.0  \n",
              "28              two         101               17  11845.0  \n",
              "29             four          72               31  18344.0  \n",
              "30             five         123               22  25552.0  \n",
              "31             five         123               22  28248.0  \n",
              "32            eight         184               14  40960.0  \n",
              "33            eight         184               14  45400.0  \n",
              "34             four          68               37   5389.0  \n",
              "35             four          68               31   6189.0  \n",
              "36             four          88               25   6989.0  \n",
              "37             four          88               25   8189.0  \n",
              "38             four          55               45   7099.0  \n",
              "39             four          69               31   6649.0  \n",
              "40             four          69               31   6849.0  \n",
              "41             four          69               31   7349.0  \n",
              "42              six         152               19  13499.0  \n",
              "43              six         207               17  34028.0  \n",
              "44              six         207               17  37028.0  \n",
              "45             four          62               35   5348.0  \n",
              "46             four          62               31   6338.0  \n",
              "47             four          62               31   6488.0  \n",
              "48             four          62               31   6918.0  \n",
              "49             four          62               27   7898.0  \n",
              "50             four          62               27   8778.0  \n",
              "51              six         156               19  15750.0  \n",
              "52             four          52               37   7775.0  \n",
              "53             four          85               27   7975.0  \n",
              "54             four          52               37   7995.0  \n",
              "55             four         100               26   9995.0  \n",
              "56             four         114               23  12940.0  \n",
              "57             four         114               23  13415.0  "
            ],
            "text/html": [
              "\n",
              "  <div id=\"df-625d9afc-23d9-426b-86a8-084b13641696\">\n",
              "    <div class=\"colab-df-container\">\n",
              "      <div>\n",
              "<style scoped>\n",
              "    .dataframe tbody tr th:only-of-type {\n",
              "        vertical-align: middle;\n",
              "    }\n",
              "\n",
              "    .dataframe tbody tr th {\n",
              "        vertical-align: top;\n",
              "    }\n",
              "\n",
              "    .dataframe thead th {\n",
              "        text-align: right;\n",
              "    }\n",
              "</style>\n",
              "<table border=\"1\" class=\"dataframe\">\n",
              "  <thead>\n",
              "    <tr style=\"text-align: right;\">\n",
              "      <th></th>\n",
              "      <th>company</th>\n",
              "      <th>body-style</th>\n",
              "      <th>wheel-base</th>\n",
              "      <th>length</th>\n",
              "      <th>engine-type</th>\n",
              "      <th>num-of-cylinders</th>\n",
              "      <th>horsepower</th>\n",
              "      <th>average-mileage</th>\n",
              "      <th>price</th>\n",
              "    </tr>\n",
              "  </thead>\n",
              "  <tbody>\n",
              "    <tr>\n",
              "      <th>0</th>\n",
              "      <td>alfa-romero</td>\n",
              "      <td>convertible</td>\n",
              "      <td>88.6</td>\n",
              "      <td>168.8</td>\n",
              "      <td>dohc</td>\n",
              "      <td>four</td>\n",
              "      <td>111</td>\n",
              "      <td>21</td>\n",
              "      <td>13495.0</td>\n",
              "    </tr>\n",
              "    <tr>\n",
              "      <th>1</th>\n",
              "      <td>alfa-romero</td>\n",
              "      <td>convertible</td>\n",
              "      <td>88.6</td>\n",
              "      <td>168.8</td>\n",
              "      <td>dohc</td>\n",
              "      <td>four</td>\n",
              "      <td>111</td>\n",
              "      <td>21</td>\n",
              "      <td>16500.0</td>\n",
              "    </tr>\n",
              "    <tr>\n",
              "      <th>2</th>\n",
              "      <td>alfa-romero</td>\n",
              "      <td>hatchback</td>\n",
              "      <td>94.5</td>\n",
              "      <td>171.2</td>\n",
              "      <td>ohcv</td>\n",
              "      <td>six</td>\n",
              "      <td>154</td>\n",
              "      <td>19</td>\n",
              "      <td>16500.0</td>\n",
              "    </tr>\n",
              "    <tr>\n",
              "      <th>3</th>\n",
              "      <td>audi</td>\n",
              "      <td>sedan</td>\n",
              "      <td>99.8</td>\n",
              "      <td>176.6</td>\n",
              "      <td>ohc</td>\n",
              "      <td>four</td>\n",
              "      <td>102</td>\n",
              "      <td>24</td>\n",
              "      <td>13950.0</td>\n",
              "    </tr>\n",
              "    <tr>\n",
              "      <th>4</th>\n",
              "      <td>audi</td>\n",
              "      <td>sedan</td>\n",
              "      <td>99.4</td>\n",
              "      <td>176.6</td>\n",
              "      <td>ohc</td>\n",
              "      <td>five</td>\n",
              "      <td>115</td>\n",
              "      <td>18</td>\n",
              "      <td>17450.0</td>\n",
              "    </tr>\n",
              "    <tr>\n",
              "      <th>5</th>\n",
              "      <td>audi</td>\n",
              "      <td>sedan</td>\n",
              "      <td>99.8</td>\n",
              "      <td>177.3</td>\n",
              "      <td>ohc</td>\n",
              "      <td>five</td>\n",
              "      <td>110</td>\n",
              "      <td>19</td>\n",
              "      <td>15250.0</td>\n",
              "    </tr>\n",
              "    <tr>\n",
              "      <th>6</th>\n",
              "      <td>audi</td>\n",
              "      <td>wagon</td>\n",
              "      <td>105.8</td>\n",
              "      <td>192.7</td>\n",
              "      <td>ohc</td>\n",
              "      <td>five</td>\n",
              "      <td>110</td>\n",
              "      <td>19</td>\n",
              "      <td>18920.0</td>\n",
              "    </tr>\n",
              "    <tr>\n",
              "      <th>7</th>\n",
              "      <td>bmw</td>\n",
              "      <td>sedan</td>\n",
              "      <td>101.2</td>\n",
              "      <td>176.8</td>\n",
              "      <td>ohc</td>\n",
              "      <td>four</td>\n",
              "      <td>101</td>\n",
              "      <td>23</td>\n",
              "      <td>16430.0</td>\n",
              "    </tr>\n",
              "    <tr>\n",
              "      <th>8</th>\n",
              "      <td>bmw</td>\n",
              "      <td>sedan</td>\n",
              "      <td>101.2</td>\n",
              "      <td>176.8</td>\n",
              "      <td>ohc</td>\n",
              "      <td>four</td>\n",
              "      <td>101</td>\n",
              "      <td>23</td>\n",
              "      <td>16925.0</td>\n",
              "    </tr>\n",
              "    <tr>\n",
              "      <th>9</th>\n",
              "      <td>bmw</td>\n",
              "      <td>sedan</td>\n",
              "      <td>101.2</td>\n",
              "      <td>176.8</td>\n",
              "      <td>ohc</td>\n",
              "      <td>six</td>\n",
              "      <td>121</td>\n",
              "      <td>21</td>\n",
              "      <td>20970.0</td>\n",
              "    </tr>\n",
              "    <tr>\n",
              "      <th>10</th>\n",
              "      <td>bmw</td>\n",
              "      <td>sedan</td>\n",
              "      <td>103.5</td>\n",
              "      <td>189.0</td>\n",
              "      <td>ohc</td>\n",
              "      <td>six</td>\n",
              "      <td>182</td>\n",
              "      <td>16</td>\n",
              "      <td>30760.0</td>\n",
              "    </tr>\n",
              "    <tr>\n",
              "      <th>11</th>\n",
              "      <td>bmw</td>\n",
              "      <td>sedan</td>\n",
              "      <td>103.5</td>\n",
              "      <td>193.8</td>\n",
              "      <td>ohc</td>\n",
              "      <td>six</td>\n",
              "      <td>182</td>\n",
              "      <td>16</td>\n",
              "      <td>41315.0</td>\n",
              "    </tr>\n",
              "    <tr>\n",
              "      <th>12</th>\n",
              "      <td>bmw</td>\n",
              "      <td>sedan</td>\n",
              "      <td>110.0</td>\n",
              "      <td>197.0</td>\n",
              "      <td>ohc</td>\n",
              "      <td>six</td>\n",
              "      <td>182</td>\n",
              "      <td>15</td>\n",
              "      <td>36880.0</td>\n",
              "    </tr>\n",
              "    <tr>\n",
              "      <th>13</th>\n",
              "      <td>chevrolet</td>\n",
              "      <td>hatchback</td>\n",
              "      <td>88.4</td>\n",
              "      <td>141.1</td>\n",
              "      <td>l</td>\n",
              "      <td>three</td>\n",
              "      <td>48</td>\n",
              "      <td>47</td>\n",
              "      <td>5151.0</td>\n",
              "    </tr>\n",
              "    <tr>\n",
              "      <th>14</th>\n",
              "      <td>chevrolet</td>\n",
              "      <td>hatchback</td>\n",
              "      <td>94.5</td>\n",
              "      <td>155.9</td>\n",
              "      <td>ohc</td>\n",
              "      <td>four</td>\n",
              "      <td>70</td>\n",
              "      <td>38</td>\n",
              "      <td>6295.0</td>\n",
              "    </tr>\n",
              "    <tr>\n",
              "      <th>15</th>\n",
              "      <td>chevrolet</td>\n",
              "      <td>sedan</td>\n",
              "      <td>94.5</td>\n",
              "      <td>158.8</td>\n",
              "      <td>ohc</td>\n",
              "      <td>four</td>\n",
              "      <td>70</td>\n",
              "      <td>38</td>\n",
              "      <td>6575.0</td>\n",
              "    </tr>\n",
              "    <tr>\n",
              "      <th>16</th>\n",
              "      <td>dodge</td>\n",
              "      <td>hatchback</td>\n",
              "      <td>93.7</td>\n",
              "      <td>157.3</td>\n",
              "      <td>ohc</td>\n",
              "      <td>four</td>\n",
              "      <td>68</td>\n",
              "      <td>31</td>\n",
              "      <td>6377.0</td>\n",
              "    </tr>\n",
              "    <tr>\n",
              "      <th>17</th>\n",
              "      <td>dodge</td>\n",
              "      <td>hatchback</td>\n",
              "      <td>93.7</td>\n",
              "      <td>157.3</td>\n",
              "      <td>ohc</td>\n",
              "      <td>four</td>\n",
              "      <td>68</td>\n",
              "      <td>31</td>\n",
              "      <td>6229.0</td>\n",
              "    </tr>\n",
              "    <tr>\n",
              "      <th>18</th>\n",
              "      <td>honda</td>\n",
              "      <td>wagon</td>\n",
              "      <td>96.5</td>\n",
              "      <td>157.1</td>\n",
              "      <td>ohc</td>\n",
              "      <td>four</td>\n",
              "      <td>76</td>\n",
              "      <td>30</td>\n",
              "      <td>7295.0</td>\n",
              "    </tr>\n",
              "    <tr>\n",
              "      <th>19</th>\n",
              "      <td>honda</td>\n",
              "      <td>sedan</td>\n",
              "      <td>96.5</td>\n",
              "      <td>175.4</td>\n",
              "      <td>ohc</td>\n",
              "      <td>four</td>\n",
              "      <td>101</td>\n",
              "      <td>24</td>\n",
              "      <td>12945.0</td>\n",
              "    </tr>\n",
              "    <tr>\n",
              "      <th>20</th>\n",
              "      <td>honda</td>\n",
              "      <td>sedan</td>\n",
              "      <td>96.5</td>\n",
              "      <td>169.1</td>\n",
              "      <td>ohc</td>\n",
              "      <td>four</td>\n",
              "      <td>100</td>\n",
              "      <td>25</td>\n",
              "      <td>10345.0</td>\n",
              "    </tr>\n",
              "    <tr>\n",
              "      <th>21</th>\n",
              "      <td>isuzu</td>\n",
              "      <td>sedan</td>\n",
              "      <td>94.3</td>\n",
              "      <td>170.7</td>\n",
              "      <td>ohc</td>\n",
              "      <td>four</td>\n",
              "      <td>78</td>\n",
              "      <td>24</td>\n",
              "      <td>6785.0</td>\n",
              "    </tr>\n",
              "    <tr>\n",
              "      <th>22</th>\n",
              "      <td>jaguar</td>\n",
              "      <td>sedan</td>\n",
              "      <td>113.0</td>\n",
              "      <td>199.6</td>\n",
              "      <td>dohc</td>\n",
              "      <td>six</td>\n",
              "      <td>176</td>\n",
              "      <td>15</td>\n",
              "      <td>32250.0</td>\n",
              "    </tr>\n",
              "    <tr>\n",
              "      <th>23</th>\n",
              "      <td>jaguar</td>\n",
              "      <td>sedan</td>\n",
              "      <td>113.0</td>\n",
              "      <td>199.6</td>\n",
              "      <td>dohc</td>\n",
              "      <td>six</td>\n",
              "      <td>176</td>\n",
              "      <td>15</td>\n",
              "      <td>35550.0</td>\n",
              "    </tr>\n",
              "    <tr>\n",
              "      <th>24</th>\n",
              "      <td>jaguar</td>\n",
              "      <td>sedan</td>\n",
              "      <td>102.0</td>\n",
              "      <td>191.7</td>\n",
              "      <td>ohcv</td>\n",
              "      <td>twelve</td>\n",
              "      <td>262</td>\n",
              "      <td>13</td>\n",
              "      <td>36000.0</td>\n",
              "    </tr>\n",
              "    <tr>\n",
              "      <th>25</th>\n",
              "      <td>mazda</td>\n",
              "      <td>hatchback</td>\n",
              "      <td>93.1</td>\n",
              "      <td>159.1</td>\n",
              "      <td>ohc</td>\n",
              "      <td>four</td>\n",
              "      <td>68</td>\n",
              "      <td>30</td>\n",
              "      <td>5195.0</td>\n",
              "    </tr>\n",
              "    <tr>\n",
              "      <th>26</th>\n",
              "      <td>mazda</td>\n",
              "      <td>hatchback</td>\n",
              "      <td>93.1</td>\n",
              "      <td>159.1</td>\n",
              "      <td>ohc</td>\n",
              "      <td>four</td>\n",
              "      <td>68</td>\n",
              "      <td>31</td>\n",
              "      <td>6095.0</td>\n",
              "    </tr>\n",
              "    <tr>\n",
              "      <th>27</th>\n",
              "      <td>mazda</td>\n",
              "      <td>hatchback</td>\n",
              "      <td>93.1</td>\n",
              "      <td>159.1</td>\n",
              "      <td>ohc</td>\n",
              "      <td>four</td>\n",
              "      <td>68</td>\n",
              "      <td>31</td>\n",
              "      <td>6795.0</td>\n",
              "    </tr>\n",
              "    <tr>\n",
              "      <th>28</th>\n",
              "      <td>mazda</td>\n",
              "      <td>hatchback</td>\n",
              "      <td>95.3</td>\n",
              "      <td>169.0</td>\n",
              "      <td>rotor</td>\n",
              "      <td>two</td>\n",
              "      <td>101</td>\n",
              "      <td>17</td>\n",
              "      <td>11845.0</td>\n",
              "    </tr>\n",
              "    <tr>\n",
              "      <th>29</th>\n",
              "      <td>mazda</td>\n",
              "      <td>sedan</td>\n",
              "      <td>104.9</td>\n",
              "      <td>175.0</td>\n",
              "      <td>ohc</td>\n",
              "      <td>four</td>\n",
              "      <td>72</td>\n",
              "      <td>31</td>\n",
              "      <td>18344.0</td>\n",
              "    </tr>\n",
              "    <tr>\n",
              "      <th>30</th>\n",
              "      <td>mercedes-benz</td>\n",
              "      <td>sedan</td>\n",
              "      <td>110.0</td>\n",
              "      <td>190.9</td>\n",
              "      <td>ohc</td>\n",
              "      <td>five</td>\n",
              "      <td>123</td>\n",
              "      <td>22</td>\n",
              "      <td>25552.0</td>\n",
              "    </tr>\n",
              "    <tr>\n",
              "      <th>31</th>\n",
              "      <td>mercedes-benz</td>\n",
              "      <td>wagon</td>\n",
              "      <td>110.0</td>\n",
              "      <td>190.9</td>\n",
              "      <td>ohc</td>\n",
              "      <td>five</td>\n",
              "      <td>123</td>\n",
              "      <td>22</td>\n",
              "      <td>28248.0</td>\n",
              "    </tr>\n",
              "    <tr>\n",
              "      <th>32</th>\n",
              "      <td>mercedes-benz</td>\n",
              "      <td>sedan</td>\n",
              "      <td>120.9</td>\n",
              "      <td>208.1</td>\n",
              "      <td>ohcv</td>\n",
              "      <td>eight</td>\n",
              "      <td>184</td>\n",
              "      <td>14</td>\n",
              "      <td>40960.0</td>\n",
              "    </tr>\n",
              "    <tr>\n",
              "      <th>33</th>\n",
              "      <td>mercedes-benz</td>\n",
              "      <td>hardtop</td>\n",
              "      <td>112.0</td>\n",
              "      <td>199.2</td>\n",
              "      <td>ohcv</td>\n",
              "      <td>eight</td>\n",
              "      <td>184</td>\n",
              "      <td>14</td>\n",
              "      <td>45400.0</td>\n",
              "    </tr>\n",
              "    <tr>\n",
              "      <th>34</th>\n",
              "      <td>mitsubishi</td>\n",
              "      <td>hatchback</td>\n",
              "      <td>93.7</td>\n",
              "      <td>157.3</td>\n",
              "      <td>ohc</td>\n",
              "      <td>four</td>\n",
              "      <td>68</td>\n",
              "      <td>37</td>\n",
              "      <td>5389.0</td>\n",
              "    </tr>\n",
              "    <tr>\n",
              "      <th>35</th>\n",
              "      <td>mitsubishi</td>\n",
              "      <td>hatchback</td>\n",
              "      <td>93.7</td>\n",
              "      <td>157.3</td>\n",
              "      <td>ohc</td>\n",
              "      <td>four</td>\n",
              "      <td>68</td>\n",
              "      <td>31</td>\n",
              "      <td>6189.0</td>\n",
              "    </tr>\n",
              "    <tr>\n",
              "      <th>36</th>\n",
              "      <td>mitsubishi</td>\n",
              "      <td>sedan</td>\n",
              "      <td>96.3</td>\n",
              "      <td>172.4</td>\n",
              "      <td>ohc</td>\n",
              "      <td>four</td>\n",
              "      <td>88</td>\n",
              "      <td>25</td>\n",
              "      <td>6989.0</td>\n",
              "    </tr>\n",
              "    <tr>\n",
              "      <th>37</th>\n",
              "      <td>mitsubishi</td>\n",
              "      <td>sedan</td>\n",
              "      <td>96.3</td>\n",
              "      <td>172.4</td>\n",
              "      <td>ohc</td>\n",
              "      <td>four</td>\n",
              "      <td>88</td>\n",
              "      <td>25</td>\n",
              "      <td>8189.0</td>\n",
              "    </tr>\n",
              "    <tr>\n",
              "      <th>38</th>\n",
              "      <td>nissan</td>\n",
              "      <td>sedan</td>\n",
              "      <td>94.5</td>\n",
              "      <td>165.3</td>\n",
              "      <td>ohc</td>\n",
              "      <td>four</td>\n",
              "      <td>55</td>\n",
              "      <td>45</td>\n",
              "      <td>7099.0</td>\n",
              "    </tr>\n",
              "    <tr>\n",
              "      <th>39</th>\n",
              "      <td>nissan</td>\n",
              "      <td>sedan</td>\n",
              "      <td>94.5</td>\n",
              "      <td>165.3</td>\n",
              "      <td>ohc</td>\n",
              "      <td>four</td>\n",
              "      <td>69</td>\n",
              "      <td>31</td>\n",
              "      <td>6649.0</td>\n",
              "    </tr>\n",
              "    <tr>\n",
              "      <th>40</th>\n",
              "      <td>nissan</td>\n",
              "      <td>sedan</td>\n",
              "      <td>94.5</td>\n",
              "      <td>165.3</td>\n",
              "      <td>ohc</td>\n",
              "      <td>four</td>\n",
              "      <td>69</td>\n",
              "      <td>31</td>\n",
              "      <td>6849.0</td>\n",
              "    </tr>\n",
              "    <tr>\n",
              "      <th>41</th>\n",
              "      <td>nissan</td>\n",
              "      <td>wagon</td>\n",
              "      <td>94.5</td>\n",
              "      <td>170.2</td>\n",
              "      <td>ohc</td>\n",
              "      <td>four</td>\n",
              "      <td>69</td>\n",
              "      <td>31</td>\n",
              "      <td>7349.0</td>\n",
              "    </tr>\n",
              "    <tr>\n",
              "      <th>42</th>\n",
              "      <td>nissan</td>\n",
              "      <td>sedan</td>\n",
              "      <td>100.4</td>\n",
              "      <td>184.6</td>\n",
              "      <td>ohcv</td>\n",
              "      <td>six</td>\n",
              "      <td>152</td>\n",
              "      <td>19</td>\n",
              "      <td>13499.0</td>\n",
              "    </tr>\n",
              "    <tr>\n",
              "      <th>43</th>\n",
              "      <td>porsche</td>\n",
              "      <td>hardtop</td>\n",
              "      <td>89.5</td>\n",
              "      <td>168.9</td>\n",
              "      <td>ohcf</td>\n",
              "      <td>six</td>\n",
              "      <td>207</td>\n",
              "      <td>17</td>\n",
              "      <td>34028.0</td>\n",
              "    </tr>\n",
              "    <tr>\n",
              "      <th>44</th>\n",
              "      <td>porsche</td>\n",
              "      <td>convertible</td>\n",
              "      <td>89.5</td>\n",
              "      <td>168.9</td>\n",
              "      <td>ohcf</td>\n",
              "      <td>six</td>\n",
              "      <td>207</td>\n",
              "      <td>17</td>\n",
              "      <td>37028.0</td>\n",
              "    </tr>\n",
              "    <tr>\n",
              "      <th>45</th>\n",
              "      <td>toyota</td>\n",
              "      <td>hatchback</td>\n",
              "      <td>95.7</td>\n",
              "      <td>158.7</td>\n",
              "      <td>ohc</td>\n",
              "      <td>four</td>\n",
              "      <td>62</td>\n",
              "      <td>35</td>\n",
              "      <td>5348.0</td>\n",
              "    </tr>\n",
              "    <tr>\n",
              "      <th>46</th>\n",
              "      <td>toyota</td>\n",
              "      <td>hatchback</td>\n",
              "      <td>95.7</td>\n",
              "      <td>158.7</td>\n",
              "      <td>ohc</td>\n",
              "      <td>four</td>\n",
              "      <td>62</td>\n",
              "      <td>31</td>\n",
              "      <td>6338.0</td>\n",
              "    </tr>\n",
              "    <tr>\n",
              "      <th>47</th>\n",
              "      <td>toyota</td>\n",
              "      <td>hatchback</td>\n",
              "      <td>95.7</td>\n",
              "      <td>158.7</td>\n",
              "      <td>ohc</td>\n",
              "      <td>four</td>\n",
              "      <td>62</td>\n",
              "      <td>31</td>\n",
              "      <td>6488.0</td>\n",
              "    </tr>\n",
              "    <tr>\n",
              "      <th>48</th>\n",
              "      <td>toyota</td>\n",
              "      <td>wagon</td>\n",
              "      <td>95.7</td>\n",
              "      <td>169.7</td>\n",
              "      <td>ohc</td>\n",
              "      <td>four</td>\n",
              "      <td>62</td>\n",
              "      <td>31</td>\n",
              "      <td>6918.0</td>\n",
              "    </tr>\n",
              "    <tr>\n",
              "      <th>49</th>\n",
              "      <td>toyota</td>\n",
              "      <td>wagon</td>\n",
              "      <td>95.7</td>\n",
              "      <td>169.7</td>\n",
              "      <td>ohc</td>\n",
              "      <td>four</td>\n",
              "      <td>62</td>\n",
              "      <td>27</td>\n",
              "      <td>7898.0</td>\n",
              "    </tr>\n",
              "    <tr>\n",
              "      <th>50</th>\n",
              "      <td>toyota</td>\n",
              "      <td>wagon</td>\n",
              "      <td>95.7</td>\n",
              "      <td>169.7</td>\n",
              "      <td>ohc</td>\n",
              "      <td>four</td>\n",
              "      <td>62</td>\n",
              "      <td>27</td>\n",
              "      <td>8778.0</td>\n",
              "    </tr>\n",
              "    <tr>\n",
              "      <th>51</th>\n",
              "      <td>toyota</td>\n",
              "      <td>wagon</td>\n",
              "      <td>104.5</td>\n",
              "      <td>187.8</td>\n",
              "      <td>dohc</td>\n",
              "      <td>six</td>\n",
              "      <td>156</td>\n",
              "      <td>19</td>\n",
              "      <td>15750.0</td>\n",
              "    </tr>\n",
              "    <tr>\n",
              "      <th>52</th>\n",
              "      <td>volkswagen</td>\n",
              "      <td>sedan</td>\n",
              "      <td>97.3</td>\n",
              "      <td>171.7</td>\n",
              "      <td>ohc</td>\n",
              "      <td>four</td>\n",
              "      <td>52</td>\n",
              "      <td>37</td>\n",
              "      <td>7775.0</td>\n",
              "    </tr>\n",
              "    <tr>\n",
              "      <th>53</th>\n",
              "      <td>volkswagen</td>\n",
              "      <td>sedan</td>\n",
              "      <td>97.3</td>\n",
              "      <td>171.7</td>\n",
              "      <td>ohc</td>\n",
              "      <td>four</td>\n",
              "      <td>85</td>\n",
              "      <td>27</td>\n",
              "      <td>7975.0</td>\n",
              "    </tr>\n",
              "    <tr>\n",
              "      <th>54</th>\n",
              "      <td>volkswagen</td>\n",
              "      <td>sedan</td>\n",
              "      <td>97.3</td>\n",
              "      <td>171.7</td>\n",
              "      <td>ohc</td>\n",
              "      <td>four</td>\n",
              "      <td>52</td>\n",
              "      <td>37</td>\n",
              "      <td>7995.0</td>\n",
              "    </tr>\n",
              "    <tr>\n",
              "      <th>55</th>\n",
              "      <td>volkswagen</td>\n",
              "      <td>sedan</td>\n",
              "      <td>97.3</td>\n",
              "      <td>171.7</td>\n",
              "      <td>ohc</td>\n",
              "      <td>four</td>\n",
              "      <td>100</td>\n",
              "      <td>26</td>\n",
              "      <td>9995.0</td>\n",
              "    </tr>\n",
              "    <tr>\n",
              "      <th>56</th>\n",
              "      <td>volvo</td>\n",
              "      <td>sedan</td>\n",
              "      <td>104.3</td>\n",
              "      <td>188.8</td>\n",
              "      <td>ohc</td>\n",
              "      <td>four</td>\n",
              "      <td>114</td>\n",
              "      <td>23</td>\n",
              "      <td>12940.0</td>\n",
              "    </tr>\n",
              "    <tr>\n",
              "      <th>57</th>\n",
              "      <td>volvo</td>\n",
              "      <td>wagon</td>\n",
              "      <td>104.3</td>\n",
              "      <td>188.8</td>\n",
              "      <td>ohc</td>\n",
              "      <td>four</td>\n",
              "      <td>114</td>\n",
              "      <td>23</td>\n",
              "      <td>13415.0</td>\n",
              "    </tr>\n",
              "  </tbody>\n",
              "</table>\n",
              "</div>\n",
              "      <button class=\"colab-df-convert\" onclick=\"convertToInteractive('df-625d9afc-23d9-426b-86a8-084b13641696')\"\n",
              "              title=\"Convert this dataframe to an interactive table.\"\n",
              "              style=\"display:none;\">\n",
              "        \n",
              "  <svg xmlns=\"http://www.w3.org/2000/svg\" height=\"24px\"viewBox=\"0 0 24 24\"\n",
              "       width=\"24px\">\n",
              "    <path d=\"M0 0h24v24H0V0z\" fill=\"none\"/>\n",
              "    <path d=\"M18.56 5.44l.94 2.06.94-2.06 2.06-.94-2.06-.94-.94-2.06-.94 2.06-2.06.94zm-11 1L8.5 8.5l.94-2.06 2.06-.94-2.06-.94L8.5 2.5l-.94 2.06-2.06.94zm10 10l.94 2.06.94-2.06 2.06-.94-2.06-.94-.94-2.06-.94 2.06-2.06.94z\"/><path d=\"M17.41 7.96l-1.37-1.37c-.4-.4-.92-.59-1.43-.59-.52 0-1.04.2-1.43.59L10.3 9.45l-7.72 7.72c-.78.78-.78 2.05 0 2.83L4 21.41c.39.39.9.59 1.41.59.51 0 1.02-.2 1.41-.59l7.78-7.78 2.81-2.81c.8-.78.8-2.07 0-2.86zM5.41 20L4 18.59l7.72-7.72 1.47 1.35L5.41 20z\"/>\n",
              "  </svg>\n",
              "      </button>\n",
              "      \n",
              "  <style>\n",
              "    .colab-df-container {\n",
              "      display:flex;\n",
              "      flex-wrap:wrap;\n",
              "      gap: 12px;\n",
              "    }\n",
              "\n",
              "    .colab-df-convert {\n",
              "      background-color: #E8F0FE;\n",
              "      border: none;\n",
              "      border-radius: 50%;\n",
              "      cursor: pointer;\n",
              "      display: none;\n",
              "      fill: #1967D2;\n",
              "      height: 32px;\n",
              "      padding: 0 0 0 0;\n",
              "      width: 32px;\n",
              "    }\n",
              "\n",
              "    .colab-df-convert:hover {\n",
              "      background-color: #E2EBFA;\n",
              "      box-shadow: 0px 1px 2px rgba(60, 64, 67, 0.3), 0px 1px 3px 1px rgba(60, 64, 67, 0.15);\n",
              "      fill: #174EA6;\n",
              "    }\n",
              "\n",
              "    [theme=dark] .colab-df-convert {\n",
              "      background-color: #3B4455;\n",
              "      fill: #D2E3FC;\n",
              "    }\n",
              "\n",
              "    [theme=dark] .colab-df-convert:hover {\n",
              "      background-color: #434B5C;\n",
              "      box-shadow: 0px 1px 3px 1px rgba(0, 0, 0, 0.15);\n",
              "      filter: drop-shadow(0px 1px 2px rgba(0, 0, 0, 0.3));\n",
              "      fill: #FFFFFF;\n",
              "    }\n",
              "  </style>\n",
              "\n",
              "      <script>\n",
              "        const buttonEl =\n",
              "          document.querySelector('#df-625d9afc-23d9-426b-86a8-084b13641696 button.colab-df-convert');\n",
              "        buttonEl.style.display =\n",
              "          google.colab.kernel.accessAllowed ? 'block' : 'none';\n",
              "\n",
              "        async function convertToInteractive(key) {\n",
              "          const element = document.querySelector('#df-625d9afc-23d9-426b-86a8-084b13641696');\n",
              "          const dataTable =\n",
              "            await google.colab.kernel.invokeFunction('convertToInteractive',\n",
              "                                                     [key], {});\n",
              "          if (!dataTable) return;\n",
              "\n",
              "          const docLinkHtml = 'Like what you see? Visit the ' +\n",
              "            '<a target=\"_blank\" href=https://colab.research.google.com/notebooks/data_table.ipynb>data table notebook</a>'\n",
              "            + ' to learn more about interactive tables.';\n",
              "          element.innerHTML = '';\n",
              "          dataTable['output_type'] = 'display_data';\n",
              "          await google.colab.output.renderOutput(dataTable, element);\n",
              "          const docLink = document.createElement('div');\n",
              "          docLink.innerHTML = docLinkHtml;\n",
              "          element.appendChild(docLink);\n",
              "        }\n",
              "      </script>\n",
              "    </div>\n",
              "  </div>\n",
              "  "
            ]
          },
          "metadata": {},
          "execution_count": 273
        }
      ]
    },
    {
      "cell_type": "markdown",
      "source": [
        "7. Con base en el dataframe del ejercicio 4, Encontrar el nombre de la empresa de automóviles más cara."
      ],
      "metadata": {
        "id": "RCo9EySDDFMA"
      }
    },
    {
      "cell_type": "code",
      "source": [
        "dataframe[\"company\"].loc[dataframe[\"price\"].idxmax()]"
      ],
      "metadata": {
        "colab": {
          "base_uri": "https://localhost:8080/",
          "height": 35
        },
        "id": "OftFwlIJCibz",
        "outputId": "50ceb8dd-4f67-4e84-9e03-246986a2fb12"
      },
      "execution_count": null,
      "outputs": [
        {
          "output_type": "execute_result",
          "data": {
            "text/plain": [
              "'mercedes-benz'"
            ],
            "application/vnd.google.colaboratory.intrinsic+json": {
              "type": "string"
            }
          },
          "metadata": {},
          "execution_count": 274
        }
      ]
    },
    {
      "cell_type": "markdown",
      "source": [
        "8. Con base en el dataframe del ejercicio 4, imprimir todos los detalles de los carros marca Toyota"
      ],
      "metadata": {
        "id": "Pilx0DuNEIg5"
      }
    },
    {
      "cell_type": "code",
      "source": [
        "dataframe[dataframe[\"company\"] == \"toyota\"]"
      ],
      "metadata": {
        "colab": {
          "base_uri": "https://localhost:8080/",
          "height": 269
        },
        "id": "JOI3KffqHsJT",
        "outputId": "4c18d0b8-c49b-467c-e004-8358e3b02f6f"
      },
      "execution_count": null,
      "outputs": [
        {
          "output_type": "execute_result",
          "data": {
            "text/plain": [
              "   company body-style  wheel-base  length engine-type num-of-cylinders  \\\n",
              "45  toyota  hatchback        95.7   158.7         ohc             four   \n",
              "46  toyota  hatchback        95.7   158.7         ohc             four   \n",
              "47  toyota  hatchback        95.7   158.7         ohc             four   \n",
              "48  toyota      wagon        95.7   169.7         ohc             four   \n",
              "49  toyota      wagon        95.7   169.7         ohc             four   \n",
              "50  toyota      wagon        95.7   169.7         ohc             four   \n",
              "51  toyota      wagon       104.5   187.8        dohc              six   \n",
              "\n",
              "    horsepower  average-mileage    price  \n",
              "45          62               35   5348.0  \n",
              "46          62               31   6338.0  \n",
              "47          62               31   6488.0  \n",
              "48          62               31   6918.0  \n",
              "49          62               27   7898.0  \n",
              "50          62               27   8778.0  \n",
              "51         156               19  15750.0  "
            ],
            "text/html": [
              "\n",
              "  <div id=\"df-54942d0f-ca40-4fcd-979a-303ff558851c\">\n",
              "    <div class=\"colab-df-container\">\n",
              "      <div>\n",
              "<style scoped>\n",
              "    .dataframe tbody tr th:only-of-type {\n",
              "        vertical-align: middle;\n",
              "    }\n",
              "\n",
              "    .dataframe tbody tr th {\n",
              "        vertical-align: top;\n",
              "    }\n",
              "\n",
              "    .dataframe thead th {\n",
              "        text-align: right;\n",
              "    }\n",
              "</style>\n",
              "<table border=\"1\" class=\"dataframe\">\n",
              "  <thead>\n",
              "    <tr style=\"text-align: right;\">\n",
              "      <th></th>\n",
              "      <th>company</th>\n",
              "      <th>body-style</th>\n",
              "      <th>wheel-base</th>\n",
              "      <th>length</th>\n",
              "      <th>engine-type</th>\n",
              "      <th>num-of-cylinders</th>\n",
              "      <th>horsepower</th>\n",
              "      <th>average-mileage</th>\n",
              "      <th>price</th>\n",
              "    </tr>\n",
              "  </thead>\n",
              "  <tbody>\n",
              "    <tr>\n",
              "      <th>45</th>\n",
              "      <td>toyota</td>\n",
              "      <td>hatchback</td>\n",
              "      <td>95.7</td>\n",
              "      <td>158.7</td>\n",
              "      <td>ohc</td>\n",
              "      <td>four</td>\n",
              "      <td>62</td>\n",
              "      <td>35</td>\n",
              "      <td>5348.0</td>\n",
              "    </tr>\n",
              "    <tr>\n",
              "      <th>46</th>\n",
              "      <td>toyota</td>\n",
              "      <td>hatchback</td>\n",
              "      <td>95.7</td>\n",
              "      <td>158.7</td>\n",
              "      <td>ohc</td>\n",
              "      <td>four</td>\n",
              "      <td>62</td>\n",
              "      <td>31</td>\n",
              "      <td>6338.0</td>\n",
              "    </tr>\n",
              "    <tr>\n",
              "      <th>47</th>\n",
              "      <td>toyota</td>\n",
              "      <td>hatchback</td>\n",
              "      <td>95.7</td>\n",
              "      <td>158.7</td>\n",
              "      <td>ohc</td>\n",
              "      <td>four</td>\n",
              "      <td>62</td>\n",
              "      <td>31</td>\n",
              "      <td>6488.0</td>\n",
              "    </tr>\n",
              "    <tr>\n",
              "      <th>48</th>\n",
              "      <td>toyota</td>\n",
              "      <td>wagon</td>\n",
              "      <td>95.7</td>\n",
              "      <td>169.7</td>\n",
              "      <td>ohc</td>\n",
              "      <td>four</td>\n",
              "      <td>62</td>\n",
              "      <td>31</td>\n",
              "      <td>6918.0</td>\n",
              "    </tr>\n",
              "    <tr>\n",
              "      <th>49</th>\n",
              "      <td>toyota</td>\n",
              "      <td>wagon</td>\n",
              "      <td>95.7</td>\n",
              "      <td>169.7</td>\n",
              "      <td>ohc</td>\n",
              "      <td>four</td>\n",
              "      <td>62</td>\n",
              "      <td>27</td>\n",
              "      <td>7898.0</td>\n",
              "    </tr>\n",
              "    <tr>\n",
              "      <th>50</th>\n",
              "      <td>toyota</td>\n",
              "      <td>wagon</td>\n",
              "      <td>95.7</td>\n",
              "      <td>169.7</td>\n",
              "      <td>ohc</td>\n",
              "      <td>four</td>\n",
              "      <td>62</td>\n",
              "      <td>27</td>\n",
              "      <td>8778.0</td>\n",
              "    </tr>\n",
              "    <tr>\n",
              "      <th>51</th>\n",
              "      <td>toyota</td>\n",
              "      <td>wagon</td>\n",
              "      <td>104.5</td>\n",
              "      <td>187.8</td>\n",
              "      <td>dohc</td>\n",
              "      <td>six</td>\n",
              "      <td>156</td>\n",
              "      <td>19</td>\n",
              "      <td>15750.0</td>\n",
              "    </tr>\n",
              "  </tbody>\n",
              "</table>\n",
              "</div>\n",
              "      <button class=\"colab-df-convert\" onclick=\"convertToInteractive('df-54942d0f-ca40-4fcd-979a-303ff558851c')\"\n",
              "              title=\"Convert this dataframe to an interactive table.\"\n",
              "              style=\"display:none;\">\n",
              "        \n",
              "  <svg xmlns=\"http://www.w3.org/2000/svg\" height=\"24px\"viewBox=\"0 0 24 24\"\n",
              "       width=\"24px\">\n",
              "    <path d=\"M0 0h24v24H0V0z\" fill=\"none\"/>\n",
              "    <path d=\"M18.56 5.44l.94 2.06.94-2.06 2.06-.94-2.06-.94-.94-2.06-.94 2.06-2.06.94zm-11 1L8.5 8.5l.94-2.06 2.06-.94-2.06-.94L8.5 2.5l-.94 2.06-2.06.94zm10 10l.94 2.06.94-2.06 2.06-.94-2.06-.94-.94-2.06-.94 2.06-2.06.94z\"/><path d=\"M17.41 7.96l-1.37-1.37c-.4-.4-.92-.59-1.43-.59-.52 0-1.04.2-1.43.59L10.3 9.45l-7.72 7.72c-.78.78-.78 2.05 0 2.83L4 21.41c.39.39.9.59 1.41.59.51 0 1.02-.2 1.41-.59l7.78-7.78 2.81-2.81c.8-.78.8-2.07 0-2.86zM5.41 20L4 18.59l7.72-7.72 1.47 1.35L5.41 20z\"/>\n",
              "  </svg>\n",
              "      </button>\n",
              "      \n",
              "  <style>\n",
              "    .colab-df-container {\n",
              "      display:flex;\n",
              "      flex-wrap:wrap;\n",
              "      gap: 12px;\n",
              "    }\n",
              "\n",
              "    .colab-df-convert {\n",
              "      background-color: #E8F0FE;\n",
              "      border: none;\n",
              "      border-radius: 50%;\n",
              "      cursor: pointer;\n",
              "      display: none;\n",
              "      fill: #1967D2;\n",
              "      height: 32px;\n",
              "      padding: 0 0 0 0;\n",
              "      width: 32px;\n",
              "    }\n",
              "\n",
              "    .colab-df-convert:hover {\n",
              "      background-color: #E2EBFA;\n",
              "      box-shadow: 0px 1px 2px rgba(60, 64, 67, 0.3), 0px 1px 3px 1px rgba(60, 64, 67, 0.15);\n",
              "      fill: #174EA6;\n",
              "    }\n",
              "\n",
              "    [theme=dark] .colab-df-convert {\n",
              "      background-color: #3B4455;\n",
              "      fill: #D2E3FC;\n",
              "    }\n",
              "\n",
              "    [theme=dark] .colab-df-convert:hover {\n",
              "      background-color: #434B5C;\n",
              "      box-shadow: 0px 1px 3px 1px rgba(0, 0, 0, 0.15);\n",
              "      filter: drop-shadow(0px 1px 2px rgba(0, 0, 0, 0.3));\n",
              "      fill: #FFFFFF;\n",
              "    }\n",
              "  </style>\n",
              "\n",
              "      <script>\n",
              "        const buttonEl =\n",
              "          document.querySelector('#df-54942d0f-ca40-4fcd-979a-303ff558851c button.colab-df-convert');\n",
              "        buttonEl.style.display =\n",
              "          google.colab.kernel.accessAllowed ? 'block' : 'none';\n",
              "\n",
              "        async function convertToInteractive(key) {\n",
              "          const element = document.querySelector('#df-54942d0f-ca40-4fcd-979a-303ff558851c');\n",
              "          const dataTable =\n",
              "            await google.colab.kernel.invokeFunction('convertToInteractive',\n",
              "                                                     [key], {});\n",
              "          if (!dataTable) return;\n",
              "\n",
              "          const docLinkHtml = 'Like what you see? Visit the ' +\n",
              "            '<a target=\"_blank\" href=https://colab.research.google.com/notebooks/data_table.ipynb>data table notebook</a>'\n",
              "            + ' to learn more about interactive tables.';\n",
              "          element.innerHTML = '';\n",
              "          dataTable['output_type'] = 'display_data';\n",
              "          await google.colab.output.renderOutput(dataTable, element);\n",
              "          const docLink = document.createElement('div');\n",
              "          docLink.innerHTML = docLinkHtml;\n",
              "          element.appendChild(docLink);\n",
              "        }\n",
              "      </script>\n",
              "    </div>\n",
              "  </div>\n",
              "  "
            ]
          },
          "metadata": {},
          "execution_count": 275
        }
      ]
    },
    {
      "cell_type": "markdown",
      "source": [
        "9. Con base en el dataframe del ejercicio 4, Contar el total de carros por empresa."
      ],
      "metadata": {
        "id": "SxhLJELNEbUx"
      }
    },
    {
      "cell_type": "code",
      "source": [
        "df_conteo_carros = dataframe[[\"company\", \"price\"]].groupby(\"company\").count()\n",
        "df_conteo_carros.reset_index().rename(columns = {'price':'carros'})"
      ],
      "metadata": {
        "colab": {
          "base_uri": "https://localhost:8080/",
          "height": 551
        },
        "id": "WsODzsrVIgfH",
        "outputId": "fc74aa26-5924-4309-bcea-f790eeccb35a"
      },
      "execution_count": null,
      "outputs": [
        {
          "output_type": "execute_result",
          "data": {
            "text/plain": [
              "          company  carros\n",
              "0     alfa-romero       3\n",
              "1            audi       4\n",
              "2             bmw       6\n",
              "3       chevrolet       3\n",
              "4           dodge       2\n",
              "5           honda       3\n",
              "6           isuzu       1\n",
              "7          jaguar       3\n",
              "8           mazda       5\n",
              "9   mercedes-benz       4\n",
              "10     mitsubishi       4\n",
              "11         nissan       5\n",
              "12        porsche       2\n",
              "13         toyota       7\n",
              "14     volkswagen       4\n",
              "15          volvo       2"
            ],
            "text/html": [
              "\n",
              "  <div id=\"df-c8ed721f-d2c8-4d0b-ae5f-98e09110f884\">\n",
              "    <div class=\"colab-df-container\">\n",
              "      <div>\n",
              "<style scoped>\n",
              "    .dataframe tbody tr th:only-of-type {\n",
              "        vertical-align: middle;\n",
              "    }\n",
              "\n",
              "    .dataframe tbody tr th {\n",
              "        vertical-align: top;\n",
              "    }\n",
              "\n",
              "    .dataframe thead th {\n",
              "        text-align: right;\n",
              "    }\n",
              "</style>\n",
              "<table border=\"1\" class=\"dataframe\">\n",
              "  <thead>\n",
              "    <tr style=\"text-align: right;\">\n",
              "      <th></th>\n",
              "      <th>company</th>\n",
              "      <th>carros</th>\n",
              "    </tr>\n",
              "  </thead>\n",
              "  <tbody>\n",
              "    <tr>\n",
              "      <th>0</th>\n",
              "      <td>alfa-romero</td>\n",
              "      <td>3</td>\n",
              "    </tr>\n",
              "    <tr>\n",
              "      <th>1</th>\n",
              "      <td>audi</td>\n",
              "      <td>4</td>\n",
              "    </tr>\n",
              "    <tr>\n",
              "      <th>2</th>\n",
              "      <td>bmw</td>\n",
              "      <td>6</td>\n",
              "    </tr>\n",
              "    <tr>\n",
              "      <th>3</th>\n",
              "      <td>chevrolet</td>\n",
              "      <td>3</td>\n",
              "    </tr>\n",
              "    <tr>\n",
              "      <th>4</th>\n",
              "      <td>dodge</td>\n",
              "      <td>2</td>\n",
              "    </tr>\n",
              "    <tr>\n",
              "      <th>5</th>\n",
              "      <td>honda</td>\n",
              "      <td>3</td>\n",
              "    </tr>\n",
              "    <tr>\n",
              "      <th>6</th>\n",
              "      <td>isuzu</td>\n",
              "      <td>1</td>\n",
              "    </tr>\n",
              "    <tr>\n",
              "      <th>7</th>\n",
              "      <td>jaguar</td>\n",
              "      <td>3</td>\n",
              "    </tr>\n",
              "    <tr>\n",
              "      <th>8</th>\n",
              "      <td>mazda</td>\n",
              "      <td>5</td>\n",
              "    </tr>\n",
              "    <tr>\n",
              "      <th>9</th>\n",
              "      <td>mercedes-benz</td>\n",
              "      <td>4</td>\n",
              "    </tr>\n",
              "    <tr>\n",
              "      <th>10</th>\n",
              "      <td>mitsubishi</td>\n",
              "      <td>4</td>\n",
              "    </tr>\n",
              "    <tr>\n",
              "      <th>11</th>\n",
              "      <td>nissan</td>\n",
              "      <td>5</td>\n",
              "    </tr>\n",
              "    <tr>\n",
              "      <th>12</th>\n",
              "      <td>porsche</td>\n",
              "      <td>2</td>\n",
              "    </tr>\n",
              "    <tr>\n",
              "      <th>13</th>\n",
              "      <td>toyota</td>\n",
              "      <td>7</td>\n",
              "    </tr>\n",
              "    <tr>\n",
              "      <th>14</th>\n",
              "      <td>volkswagen</td>\n",
              "      <td>4</td>\n",
              "    </tr>\n",
              "    <tr>\n",
              "      <th>15</th>\n",
              "      <td>volvo</td>\n",
              "      <td>2</td>\n",
              "    </tr>\n",
              "  </tbody>\n",
              "</table>\n",
              "</div>\n",
              "      <button class=\"colab-df-convert\" onclick=\"convertToInteractive('df-c8ed721f-d2c8-4d0b-ae5f-98e09110f884')\"\n",
              "              title=\"Convert this dataframe to an interactive table.\"\n",
              "              style=\"display:none;\">\n",
              "        \n",
              "  <svg xmlns=\"http://www.w3.org/2000/svg\" height=\"24px\"viewBox=\"0 0 24 24\"\n",
              "       width=\"24px\">\n",
              "    <path d=\"M0 0h24v24H0V0z\" fill=\"none\"/>\n",
              "    <path d=\"M18.56 5.44l.94 2.06.94-2.06 2.06-.94-2.06-.94-.94-2.06-.94 2.06-2.06.94zm-11 1L8.5 8.5l.94-2.06 2.06-.94-2.06-.94L8.5 2.5l-.94 2.06-2.06.94zm10 10l.94 2.06.94-2.06 2.06-.94-2.06-.94-.94-2.06-.94 2.06-2.06.94z\"/><path d=\"M17.41 7.96l-1.37-1.37c-.4-.4-.92-.59-1.43-.59-.52 0-1.04.2-1.43.59L10.3 9.45l-7.72 7.72c-.78.78-.78 2.05 0 2.83L4 21.41c.39.39.9.59 1.41.59.51 0 1.02-.2 1.41-.59l7.78-7.78 2.81-2.81c.8-.78.8-2.07 0-2.86zM5.41 20L4 18.59l7.72-7.72 1.47 1.35L5.41 20z\"/>\n",
              "  </svg>\n",
              "      </button>\n",
              "      \n",
              "  <style>\n",
              "    .colab-df-container {\n",
              "      display:flex;\n",
              "      flex-wrap:wrap;\n",
              "      gap: 12px;\n",
              "    }\n",
              "\n",
              "    .colab-df-convert {\n",
              "      background-color: #E8F0FE;\n",
              "      border: none;\n",
              "      border-radius: 50%;\n",
              "      cursor: pointer;\n",
              "      display: none;\n",
              "      fill: #1967D2;\n",
              "      height: 32px;\n",
              "      padding: 0 0 0 0;\n",
              "      width: 32px;\n",
              "    }\n",
              "\n",
              "    .colab-df-convert:hover {\n",
              "      background-color: #E2EBFA;\n",
              "      box-shadow: 0px 1px 2px rgba(60, 64, 67, 0.3), 0px 1px 3px 1px rgba(60, 64, 67, 0.15);\n",
              "      fill: #174EA6;\n",
              "    }\n",
              "\n",
              "    [theme=dark] .colab-df-convert {\n",
              "      background-color: #3B4455;\n",
              "      fill: #D2E3FC;\n",
              "    }\n",
              "\n",
              "    [theme=dark] .colab-df-convert:hover {\n",
              "      background-color: #434B5C;\n",
              "      box-shadow: 0px 1px 3px 1px rgba(0, 0, 0, 0.15);\n",
              "      filter: drop-shadow(0px 1px 2px rgba(0, 0, 0, 0.3));\n",
              "      fill: #FFFFFF;\n",
              "    }\n",
              "  </style>\n",
              "\n",
              "      <script>\n",
              "        const buttonEl =\n",
              "          document.querySelector('#df-c8ed721f-d2c8-4d0b-ae5f-98e09110f884 button.colab-df-convert');\n",
              "        buttonEl.style.display =\n",
              "          google.colab.kernel.accessAllowed ? 'block' : 'none';\n",
              "\n",
              "        async function convertToInteractive(key) {\n",
              "          const element = document.querySelector('#df-c8ed721f-d2c8-4d0b-ae5f-98e09110f884');\n",
              "          const dataTable =\n",
              "            await google.colab.kernel.invokeFunction('convertToInteractive',\n",
              "                                                     [key], {});\n",
              "          if (!dataTable) return;\n",
              "\n",
              "          const docLinkHtml = 'Like what you see? Visit the ' +\n",
              "            '<a target=\"_blank\" href=https://colab.research.google.com/notebooks/data_table.ipynb>data table notebook</a>'\n",
              "            + ' to learn more about interactive tables.';\n",
              "          element.innerHTML = '';\n",
              "          dataTable['output_type'] = 'display_data';\n",
              "          await google.colab.output.renderOutput(dataTable, element);\n",
              "          const docLink = document.createElement('div');\n",
              "          docLink.innerHTML = docLinkHtml;\n",
              "          element.appendChild(docLink);\n",
              "        }\n",
              "      </script>\n",
              "    </div>\n",
              "  </div>\n",
              "  "
            ]
          },
          "metadata": {},
          "execution_count": 276
        }
      ]
    },
    {
      "cell_type": "markdown",
      "source": [
        "10. Con base en el dataframe del ejercicio 4, encuentre el carro de precio más alto de cada empresa."
      ],
      "metadata": {
        "id": "hyC7OWU2FHMw"
      }
    },
    {
      "cell_type": "code",
      "source": [
        "dataframe[[\"company\", \"price\"]].groupby(\"company\").max()"
      ],
      "metadata": {
        "colab": {
          "base_uri": "https://localhost:8080/",
          "height": 582
        },
        "id": "TCkhwZqtL6pP",
        "outputId": "adb26705-976e-4bfa-8b76-d89824ab64b2"
      },
      "execution_count": null,
      "outputs": [
        {
          "output_type": "execute_result",
          "data": {
            "text/plain": [
              "                 price\n",
              "company               \n",
              "alfa-romero    16500.0\n",
              "audi           18920.0\n",
              "bmw            41315.0\n",
              "chevrolet       6575.0\n",
              "dodge           6377.0\n",
              "honda          12945.0\n",
              "isuzu           6785.0\n",
              "jaguar         36000.0\n",
              "mazda          18344.0\n",
              "mercedes-benz  45400.0\n",
              "mitsubishi      8189.0\n",
              "nissan         13499.0\n",
              "porsche        37028.0\n",
              "toyota         15750.0\n",
              "volkswagen      9995.0\n",
              "volvo          13415.0"
            ],
            "text/html": [
              "\n",
              "  <div id=\"df-4726032f-72a8-426b-ab48-b85bb8eda1f0\">\n",
              "    <div class=\"colab-df-container\">\n",
              "      <div>\n",
              "<style scoped>\n",
              "    .dataframe tbody tr th:only-of-type {\n",
              "        vertical-align: middle;\n",
              "    }\n",
              "\n",
              "    .dataframe tbody tr th {\n",
              "        vertical-align: top;\n",
              "    }\n",
              "\n",
              "    .dataframe thead th {\n",
              "        text-align: right;\n",
              "    }\n",
              "</style>\n",
              "<table border=\"1\" class=\"dataframe\">\n",
              "  <thead>\n",
              "    <tr style=\"text-align: right;\">\n",
              "      <th></th>\n",
              "      <th>price</th>\n",
              "    </tr>\n",
              "    <tr>\n",
              "      <th>company</th>\n",
              "      <th></th>\n",
              "    </tr>\n",
              "  </thead>\n",
              "  <tbody>\n",
              "    <tr>\n",
              "      <th>alfa-romero</th>\n",
              "      <td>16500.0</td>\n",
              "    </tr>\n",
              "    <tr>\n",
              "      <th>audi</th>\n",
              "      <td>18920.0</td>\n",
              "    </tr>\n",
              "    <tr>\n",
              "      <th>bmw</th>\n",
              "      <td>41315.0</td>\n",
              "    </tr>\n",
              "    <tr>\n",
              "      <th>chevrolet</th>\n",
              "      <td>6575.0</td>\n",
              "    </tr>\n",
              "    <tr>\n",
              "      <th>dodge</th>\n",
              "      <td>6377.0</td>\n",
              "    </tr>\n",
              "    <tr>\n",
              "      <th>honda</th>\n",
              "      <td>12945.0</td>\n",
              "    </tr>\n",
              "    <tr>\n",
              "      <th>isuzu</th>\n",
              "      <td>6785.0</td>\n",
              "    </tr>\n",
              "    <tr>\n",
              "      <th>jaguar</th>\n",
              "      <td>36000.0</td>\n",
              "    </tr>\n",
              "    <tr>\n",
              "      <th>mazda</th>\n",
              "      <td>18344.0</td>\n",
              "    </tr>\n",
              "    <tr>\n",
              "      <th>mercedes-benz</th>\n",
              "      <td>45400.0</td>\n",
              "    </tr>\n",
              "    <tr>\n",
              "      <th>mitsubishi</th>\n",
              "      <td>8189.0</td>\n",
              "    </tr>\n",
              "    <tr>\n",
              "      <th>nissan</th>\n",
              "      <td>13499.0</td>\n",
              "    </tr>\n",
              "    <tr>\n",
              "      <th>porsche</th>\n",
              "      <td>37028.0</td>\n",
              "    </tr>\n",
              "    <tr>\n",
              "      <th>toyota</th>\n",
              "      <td>15750.0</td>\n",
              "    </tr>\n",
              "    <tr>\n",
              "      <th>volkswagen</th>\n",
              "      <td>9995.0</td>\n",
              "    </tr>\n",
              "    <tr>\n",
              "      <th>volvo</th>\n",
              "      <td>13415.0</td>\n",
              "    </tr>\n",
              "  </tbody>\n",
              "</table>\n",
              "</div>\n",
              "      <button class=\"colab-df-convert\" onclick=\"convertToInteractive('df-4726032f-72a8-426b-ab48-b85bb8eda1f0')\"\n",
              "              title=\"Convert this dataframe to an interactive table.\"\n",
              "              style=\"display:none;\">\n",
              "        \n",
              "  <svg xmlns=\"http://www.w3.org/2000/svg\" height=\"24px\"viewBox=\"0 0 24 24\"\n",
              "       width=\"24px\">\n",
              "    <path d=\"M0 0h24v24H0V0z\" fill=\"none\"/>\n",
              "    <path d=\"M18.56 5.44l.94 2.06.94-2.06 2.06-.94-2.06-.94-.94-2.06-.94 2.06-2.06.94zm-11 1L8.5 8.5l.94-2.06 2.06-.94-2.06-.94L8.5 2.5l-.94 2.06-2.06.94zm10 10l.94 2.06.94-2.06 2.06-.94-2.06-.94-.94-2.06-.94 2.06-2.06.94z\"/><path d=\"M17.41 7.96l-1.37-1.37c-.4-.4-.92-.59-1.43-.59-.52 0-1.04.2-1.43.59L10.3 9.45l-7.72 7.72c-.78.78-.78 2.05 0 2.83L4 21.41c.39.39.9.59 1.41.59.51 0 1.02-.2 1.41-.59l7.78-7.78 2.81-2.81c.8-.78.8-2.07 0-2.86zM5.41 20L4 18.59l7.72-7.72 1.47 1.35L5.41 20z\"/>\n",
              "  </svg>\n",
              "      </button>\n",
              "      \n",
              "  <style>\n",
              "    .colab-df-container {\n",
              "      display:flex;\n",
              "      flex-wrap:wrap;\n",
              "      gap: 12px;\n",
              "    }\n",
              "\n",
              "    .colab-df-convert {\n",
              "      background-color: #E8F0FE;\n",
              "      border: none;\n",
              "      border-radius: 50%;\n",
              "      cursor: pointer;\n",
              "      display: none;\n",
              "      fill: #1967D2;\n",
              "      height: 32px;\n",
              "      padding: 0 0 0 0;\n",
              "      width: 32px;\n",
              "    }\n",
              "\n",
              "    .colab-df-convert:hover {\n",
              "      background-color: #E2EBFA;\n",
              "      box-shadow: 0px 1px 2px rgba(60, 64, 67, 0.3), 0px 1px 3px 1px rgba(60, 64, 67, 0.15);\n",
              "      fill: #174EA6;\n",
              "    }\n",
              "\n",
              "    [theme=dark] .colab-df-convert {\n",
              "      background-color: #3B4455;\n",
              "      fill: #D2E3FC;\n",
              "    }\n",
              "\n",
              "    [theme=dark] .colab-df-convert:hover {\n",
              "      background-color: #434B5C;\n",
              "      box-shadow: 0px 1px 3px 1px rgba(0, 0, 0, 0.15);\n",
              "      filter: drop-shadow(0px 1px 2px rgba(0, 0, 0, 0.3));\n",
              "      fill: #FFFFFF;\n",
              "    }\n",
              "  </style>\n",
              "\n",
              "      <script>\n",
              "        const buttonEl =\n",
              "          document.querySelector('#df-4726032f-72a8-426b-ab48-b85bb8eda1f0 button.colab-df-convert');\n",
              "        buttonEl.style.display =\n",
              "          google.colab.kernel.accessAllowed ? 'block' : 'none';\n",
              "\n",
              "        async function convertToInteractive(key) {\n",
              "          const element = document.querySelector('#df-4726032f-72a8-426b-ab48-b85bb8eda1f0');\n",
              "          const dataTable =\n",
              "            await google.colab.kernel.invokeFunction('convertToInteractive',\n",
              "                                                     [key], {});\n",
              "          if (!dataTable) return;\n",
              "\n",
              "          const docLinkHtml = 'Like what you see? Visit the ' +\n",
              "            '<a target=\"_blank\" href=https://colab.research.google.com/notebooks/data_table.ipynb>data table notebook</a>'\n",
              "            + ' to learn more about interactive tables.';\n",
              "          element.innerHTML = '';\n",
              "          dataTable['output_type'] = 'display_data';\n",
              "          await google.colab.output.renderOutput(dataTable, element);\n",
              "          const docLink = document.createElement('div');\n",
              "          docLink.innerHTML = docLinkHtml;\n",
              "          element.appendChild(docLink);\n",
              "        }\n",
              "      </script>\n",
              "    </div>\n",
              "  </div>\n",
              "  "
            ]
          },
          "metadata": {},
          "execution_count": 277
        }
      ]
    },
    {
      "cell_type": "markdown",
      "source": [
        "## **Ejercicios de Matplotlib**"
      ],
      "metadata": {
        "id": "EhbUPQiNFpN5"
      }
    },
    {
      "cell_type": "markdown",
      "source": [
        "1. Crear un archivo CSV con el siguiente contenido:\n",
        "\n",
        "Date,Open,High,Low,Close\n",
        "\n",
        "10-03-16,774.25,776.065002,769.5,772.559998\n",
        "\n",
        "10-04-16,776.030029,778.710022,772.890015,776.429993\n",
        "\n",
        "10-05-16,779.309998,782.070007,775.650024,776.469971\n",
        "\n",
        "10-06-16,779,780.47998,775.539978,776.859985\n",
        "\n",
        "10-07-16,779.659973,779.659973,770.75,775.080017\n",
        "\n",
        "\n",
        "Este hace referencia a datos financieros de una compañia. Escriba un programa en Python para dibujar gráficos de líneas de los datos financieros entre el 3 de octubre de 2016 y el 7 de octubre de 2016."
      ],
      "metadata": {
        "id": "PZtvh1IUF065"
      }
    },
    {
      "cell_type": "code",
      "source": [
        "import matplotlib.pyplot as plt\n",
        "\n",
        "df = pd.read_csv('/content/drive/MyDrive/Colab Notebooks/Módulo 2/datos.csv')\n",
        "df"
      ],
      "metadata": {
        "colab": {
          "base_uri": "https://localhost:8080/",
          "height": 206
        },
        "id": "Cf_wyjYeMV0C",
        "outputId": "09e193f2-202b-416c-da20-f4c9cdd72b69"
      },
      "execution_count": null,
      "outputs": [
        {
          "output_type": "execute_result",
          "data": {
            "text/plain": [
              "       Date        Open        High         Low       Close\n",
              "0  10-03-16  774.250000  776.065002  769.500000  772.559998\n",
              "1  10-04-16  776.030029  778.710022  772.890015  776.429993\n",
              "2  10-05-16  779.309998  782.070007  775.650024  776.469971\n",
              "3  10-06-16  779.000000  780.479980  775.539978  776.859985\n",
              "4  10-07-16  779.659973  779.659973  770.750000  775.080017"
            ],
            "text/html": [
              "\n",
              "  <div id=\"df-1585bf45-cc2d-4d7e-8606-fd72b9f7a1f0\">\n",
              "    <div class=\"colab-df-container\">\n",
              "      <div>\n",
              "<style scoped>\n",
              "    .dataframe tbody tr th:only-of-type {\n",
              "        vertical-align: middle;\n",
              "    }\n",
              "\n",
              "    .dataframe tbody tr th {\n",
              "        vertical-align: top;\n",
              "    }\n",
              "\n",
              "    .dataframe thead th {\n",
              "        text-align: right;\n",
              "    }\n",
              "</style>\n",
              "<table border=\"1\" class=\"dataframe\">\n",
              "  <thead>\n",
              "    <tr style=\"text-align: right;\">\n",
              "      <th></th>\n",
              "      <th>Date</th>\n",
              "      <th>Open</th>\n",
              "      <th>High</th>\n",
              "      <th>Low</th>\n",
              "      <th>Close</th>\n",
              "    </tr>\n",
              "  </thead>\n",
              "  <tbody>\n",
              "    <tr>\n",
              "      <th>0</th>\n",
              "      <td>10-03-16</td>\n",
              "      <td>774.250000</td>\n",
              "      <td>776.065002</td>\n",
              "      <td>769.500000</td>\n",
              "      <td>772.559998</td>\n",
              "    </tr>\n",
              "    <tr>\n",
              "      <th>1</th>\n",
              "      <td>10-04-16</td>\n",
              "      <td>776.030029</td>\n",
              "      <td>778.710022</td>\n",
              "      <td>772.890015</td>\n",
              "      <td>776.429993</td>\n",
              "    </tr>\n",
              "    <tr>\n",
              "      <th>2</th>\n",
              "      <td>10-05-16</td>\n",
              "      <td>779.309998</td>\n",
              "      <td>782.070007</td>\n",
              "      <td>775.650024</td>\n",
              "      <td>776.469971</td>\n",
              "    </tr>\n",
              "    <tr>\n",
              "      <th>3</th>\n",
              "      <td>10-06-16</td>\n",
              "      <td>779.000000</td>\n",
              "      <td>780.479980</td>\n",
              "      <td>775.539978</td>\n",
              "      <td>776.859985</td>\n",
              "    </tr>\n",
              "    <tr>\n",
              "      <th>4</th>\n",
              "      <td>10-07-16</td>\n",
              "      <td>779.659973</td>\n",
              "      <td>779.659973</td>\n",
              "      <td>770.750000</td>\n",
              "      <td>775.080017</td>\n",
              "    </tr>\n",
              "  </tbody>\n",
              "</table>\n",
              "</div>\n",
              "      <button class=\"colab-df-convert\" onclick=\"convertToInteractive('df-1585bf45-cc2d-4d7e-8606-fd72b9f7a1f0')\"\n",
              "              title=\"Convert this dataframe to an interactive table.\"\n",
              "              style=\"display:none;\">\n",
              "        \n",
              "  <svg xmlns=\"http://www.w3.org/2000/svg\" height=\"24px\"viewBox=\"0 0 24 24\"\n",
              "       width=\"24px\">\n",
              "    <path d=\"M0 0h24v24H0V0z\" fill=\"none\"/>\n",
              "    <path d=\"M18.56 5.44l.94 2.06.94-2.06 2.06-.94-2.06-.94-.94-2.06-.94 2.06-2.06.94zm-11 1L8.5 8.5l.94-2.06 2.06-.94-2.06-.94L8.5 2.5l-.94 2.06-2.06.94zm10 10l.94 2.06.94-2.06 2.06-.94-2.06-.94-.94-2.06-.94 2.06-2.06.94z\"/><path d=\"M17.41 7.96l-1.37-1.37c-.4-.4-.92-.59-1.43-.59-.52 0-1.04.2-1.43.59L10.3 9.45l-7.72 7.72c-.78.78-.78 2.05 0 2.83L4 21.41c.39.39.9.59 1.41.59.51 0 1.02-.2 1.41-.59l7.78-7.78 2.81-2.81c.8-.78.8-2.07 0-2.86zM5.41 20L4 18.59l7.72-7.72 1.47 1.35L5.41 20z\"/>\n",
              "  </svg>\n",
              "      </button>\n",
              "      \n",
              "  <style>\n",
              "    .colab-df-container {\n",
              "      display:flex;\n",
              "      flex-wrap:wrap;\n",
              "      gap: 12px;\n",
              "    }\n",
              "\n",
              "    .colab-df-convert {\n",
              "      background-color: #E8F0FE;\n",
              "      border: none;\n",
              "      border-radius: 50%;\n",
              "      cursor: pointer;\n",
              "      display: none;\n",
              "      fill: #1967D2;\n",
              "      height: 32px;\n",
              "      padding: 0 0 0 0;\n",
              "      width: 32px;\n",
              "    }\n",
              "\n",
              "    .colab-df-convert:hover {\n",
              "      background-color: #E2EBFA;\n",
              "      box-shadow: 0px 1px 2px rgba(60, 64, 67, 0.3), 0px 1px 3px 1px rgba(60, 64, 67, 0.15);\n",
              "      fill: #174EA6;\n",
              "    }\n",
              "\n",
              "    [theme=dark] .colab-df-convert {\n",
              "      background-color: #3B4455;\n",
              "      fill: #D2E3FC;\n",
              "    }\n",
              "\n",
              "    [theme=dark] .colab-df-convert:hover {\n",
              "      background-color: #434B5C;\n",
              "      box-shadow: 0px 1px 3px 1px rgba(0, 0, 0, 0.15);\n",
              "      filter: drop-shadow(0px 1px 2px rgba(0, 0, 0, 0.3));\n",
              "      fill: #FFFFFF;\n",
              "    }\n",
              "  </style>\n",
              "\n",
              "      <script>\n",
              "        const buttonEl =\n",
              "          document.querySelector('#df-1585bf45-cc2d-4d7e-8606-fd72b9f7a1f0 button.colab-df-convert');\n",
              "        buttonEl.style.display =\n",
              "          google.colab.kernel.accessAllowed ? 'block' : 'none';\n",
              "\n",
              "        async function convertToInteractive(key) {\n",
              "          const element = document.querySelector('#df-1585bf45-cc2d-4d7e-8606-fd72b9f7a1f0');\n",
              "          const dataTable =\n",
              "            await google.colab.kernel.invokeFunction('convertToInteractive',\n",
              "                                                     [key], {});\n",
              "          if (!dataTable) return;\n",
              "\n",
              "          const docLinkHtml = 'Like what you see? Visit the ' +\n",
              "            '<a target=\"_blank\" href=https://colab.research.google.com/notebooks/data_table.ipynb>data table notebook</a>'\n",
              "            + ' to learn more about interactive tables.';\n",
              "          element.innerHTML = '';\n",
              "          dataTable['output_type'] = 'display_data';\n",
              "          await google.colab.output.renderOutput(dataTable, element);\n",
              "          const docLink = document.createElement('div');\n",
              "          docLink.innerHTML = docLinkHtml;\n",
              "          element.appendChild(docLink);\n",
              "        }\n",
              "      </script>\n",
              "    </div>\n",
              "  </div>\n",
              "  "
            ]
          },
          "metadata": {},
          "execution_count": 278
        }
      ]
    },
    {
      "cell_type": "code",
      "source": [
        "plt.figure(figsize=(15, 10)) \n",
        "\n",
        "x = df[\"Date\"] \n",
        "y_1 = df[\"Open\"]\n",
        "y_2 = df[\"High\"]\n",
        "y_3 = df[\"Low\"]\n",
        "y_4 = df[\"Close\"]\n",
        "  \n",
        "plt.plot(x, y_1, color=\"black\", marker=\"*\", label='Open')\n",
        "plt.plot(x, y_2, color=\"green\", marker=\"*\", label='High')\n",
        "plt.plot(x, y_3, color=\"red\", marker=\"*\", label='Low')\n",
        "plt.plot(x, y_4, color=\"gray\", marker=\"*\", label='Close')\n",
        "\n",
        "plt.title(\"Datos financieros vs. Fechas\") \n",
        "plt.xlabel(\"Fechas\") \n",
        "plt.ylabel(\"Datos financieros\")\n",
        "plt.legend(title='Movimientos')"
      ],
      "metadata": {
        "colab": {
          "base_uri": "https://localhost:8080/",
          "height": 638
        },
        "id": "EQLvt4-kNRmj",
        "outputId": "cc1671c3-414f-4bbd-dac0-e788b1c4a7ac"
      },
      "execution_count": null,
      "outputs": [
        {
          "output_type": "execute_result",
          "data": {
            "text/plain": [
              "<matplotlib.legend.Legend at 0x7fd3c8ed48b0>"
            ]
          },
          "metadata": {},
          "execution_count": 279
        },
        {
          "output_type": "display_data",
          "data": {
            "text/plain": [
              "<Figure size 1080x720 with 1 Axes>"
            ],
            "image/png": "[encoded data removed]"
          },
          "metadata": {
            "needs_background": "light"
          }
        }
      ]
    },
    {
      "cell_type": "markdown",
      "source": [
        "2. Escribir un programa en Python para mostrar la cuadrícula (grid) y dibujar gráficos de líneas del valor de cierre de los datos del ejercicio anterior entre el 3 de octubre de 2016 y el 7 de octubre de 2016. Personalice las líneas de la cuadrícula (grid) con el estilo de línea -, el ancho 0.5. y el color azul."
      ],
      "metadata": {
        "id": "rQfjB61JG8BR"
      }
    },
    {
      "cell_type": "code",
      "source": [
        "x = df[\"Date\"] \n",
        "y_4 = df[\"Close\"]\n",
        "  \n",
        "plt.plot(x, y_4, color=\"gray\", marker=\"*\", label='Close')\n",
        "\n",
        "plt.title(\"Cierre financiero vs. Fechas\") \n",
        "plt.xlabel(\"Fechas\") \n",
        "plt.ylabel(\"Cierre financiero\")\n",
        "plt.grid(color=\"blue\", linestyle='-', linewidth=0.5)\n",
        "plt.legend(title=\"Movimientos\")"
      ],
      "metadata": {
        "colab": {
          "base_uri": "https://localhost:8080/",
          "height": 312
        },
        "id": "0OeM4ibAO3rZ",
        "outputId": "9f2b40d0-92de-4b44-8ed1-3f4f958c3610"
      },
      "execution_count": null,
      "outputs": [
        {
          "output_type": "execute_result",
          "data": {
            "text/plain": [
              "<matplotlib.legend.Legend at 0x7fd3c6608d00>"
            ]
          },
          "metadata": {},
          "execution_count": 280
        },
        {
          "output_type": "display_data",
          "data": {
            "text/plain": [
              "<Figure size 432x288 with 1 Axes>"
            ],
            "image/png": "[encoded data removed]"
          },
          "metadata": {
            "needs_background": "light"
          }
        }
      ]
    },
    {
      "cell_type": "markdown",
      "source": [
        "3. Use el archivo llamdo company_sales_data.csv para los siguientes ejercicios:\n",
        "\n",
        "\n",
        "\n",
        "\n",
        "\n",
        "\n"
      ],
      "metadata": {
        "id": "zxyCSebFIACS"
      }
    },
    {
      "cell_type": "markdown",
      "source": [
        "a) Obtenga el beneficio total de todos los meses y muestre un gráfico de líneas con las siguientes propiedades de estilo:\n",
        "* Estilo de línea punteada y Color de línea debe ser rojo\n",
        "* Mostrar la leyenda en la parte inferior derecha.\n",
        "* Nombre de la etiqueta X = Número de mes\n",
        "* Nombre de la etiqueta Y = Número de unidades vendidas\n",
        "* Añadir un marcador de círculo.\n",
        "* Color del marcador de línea como se lee\n",
        "* El ancho de la línea debe ser 3\n",
        "\n",
        "\n"
      ],
      "metadata": {
        "id": "ZZWrtVW5JUph"
      }
    },
    {
      "cell_type": "code",
      "source": [
        "df_2 = pd.read_csv('/content/drive/MyDrive/Colab Notebooks/Módulo 2/company_sales_data.csv')\n",
        "df_2"
      ],
      "metadata": {
        "colab": {
          "base_uri": "https://localhost:8080/",
          "height": 426
        },
        "id": "OulyD-s0QGYr",
        "outputId": "ed0913e5-c560-43be-dcc6-750f6e96be01"
      },
      "execution_count": null,
      "outputs": [
        {
          "output_type": "execute_result",
          "data": {
            "text/plain": [
              "    month_number  facecream  facewash  toothpaste  bathingsoap  shampoo  \\\n",
              "0              1       2500      1500        5200         9200     1200   \n",
              "1              2       2630      1200        5100         6100     2100   \n",
              "2              3       2140      1340        4550         9550     3550   \n",
              "3              4       3400      1130        5870         8870     1870   \n",
              "4              5       3600      1740        4560         7760     1560   \n",
              "5              6       2760      1555        4890         7490     1890   \n",
              "6              7       2980      1120        4780         8980     1780   \n",
              "7              8       3700      1400        5860         9960     2860   \n",
              "8              9       3540      1780        6100         8100     2100   \n",
              "9             10       1990      1890        8300        10300     2300   \n",
              "10            11       2340      2100        7300        13300     2400   \n",
              "11            12       2900      1760        7400        14400     1800   \n",
              "\n",
              "    moisturizer  total_units  total_profit  \n",
              "0          1500        21100        211000  \n",
              "1          1200        18330        183300  \n",
              "2          1340        22470        224700  \n",
              "3          1130        22270        222700  \n",
              "4          1740        20960        209600  \n",
              "5          1555        20140        201400  \n",
              "6          1120        29550        295500  \n",
              "7          1400        36140        361400  \n",
              "8          1780        23400        234000  \n",
              "9          1890        26670        266700  \n",
              "10         2100        41280        412800  \n",
              "11         1760        30020        300200  "
            ],
            "text/html": [
              "\n",
              "  <div id=\"df-ea0338cd-570a-4458-9fc8-7f8a6c1531ec\">\n",
              "    <div class=\"colab-df-container\">\n",
              "      <div>\n",
              "<style scoped>\n",
              "    .dataframe tbody tr th:only-of-type {\n",
              "        vertical-align: middle;\n",
              "    }\n",
              "\n",
              "    .dataframe tbody tr th {\n",
              "        vertical-align: top;\n",
              "    }\n",
              "\n",
              "    .dataframe thead th {\n",
              "        text-align: right;\n",
              "    }\n",
              "</style>\n",
              "<table border=\"1\" class=\"dataframe\">\n",
              "  <thead>\n",
              "    <tr style=\"text-align: right;\">\n",
              "      <th></th>\n",
              "      <th>month_number</th>\n",
              "      <th>facecream</th>\n",
              "      <th>facewash</th>\n",
              "      <th>toothpaste</th>\n",
              "      <th>bathingsoap</th>\n",
              "      <th>shampoo</th>\n",
              "      <th>moisturizer</th>\n",
              "      <th>total_units</th>\n",
              "      <th>total_profit</th>\n",
              "    </tr>\n",
              "  </thead>\n",
              "  <tbody>\n",
              "    <tr>\n",
              "      <th>0</th>\n",
              "      <td>1</td>\n",
              "      <td>2500</td>\n",
              "      <td>1500</td>\n",
              "      <td>5200</td>\n",
              "      <td>9200</td>\n",
              "      <td>1200</td>\n",
              "      <td>1500</td>\n",
              "      <td>21100</td>\n",
              "      <td>211000</td>\n",
              "    </tr>\n",
              "    <tr>\n",
              "      <th>1</th>\n",
              "      <td>2</td>\n",
              "      <td>2630</td>\n",
              "      <td>1200</td>\n",
              "      <td>5100</td>\n",
              "      <td>6100</td>\n",
              "      <td>2100</td>\n",
              "      <td>1200</td>\n",
              "      <td>18330</td>\n",
              "      <td>183300</td>\n",
              "    </tr>\n",
              "    <tr>\n",
              "      <th>2</th>\n",
              "      <td>3</td>\n",
              "      <td>2140</td>\n",
              "      <td>1340</td>\n",
              "      <td>4550</td>\n",
              "      <td>9550</td>\n",
              "      <td>3550</td>\n",
              "      <td>1340</td>\n",
              "      <td>22470</td>\n",
              "      <td>224700</td>\n",
              "    </tr>\n",
              "    <tr>\n",
              "      <th>3</th>\n",
              "      <td>4</td>\n",
              "      <td>3400</td>\n",
              "      <td>1130</td>\n",
              "      <td>5870</td>\n",
              "      <td>8870</td>\n",
              "      <td>1870</td>\n",
              "      <td>1130</td>\n",
              "      <td>22270</td>\n",
              "      <td>222700</td>\n",
              "    </tr>\n",
              "    <tr>\n",
              "      <th>4</th>\n",
              "      <td>5</td>\n",
              "      <td>3600</td>\n",
              "      <td>1740</td>\n",
              "      <td>4560</td>\n",
              "      <td>7760</td>\n",
              "      <td>1560</td>\n",
              "      <td>1740</td>\n",
              "      <td>20960</td>\n",
              "      <td>209600</td>\n",
              "    </tr>\n",
              "    <tr>\n",
              "      <th>5</th>\n",
              "      <td>6</td>\n",
              "      <td>2760</td>\n",
              "      <td>1555</td>\n",
              "      <td>4890</td>\n",
              "      <td>7490</td>\n",
              "      <td>1890</td>\n",
              "      <td>1555</td>\n",
              "      <td>20140</td>\n",
              "      <td>201400</td>\n",
              "    </tr>\n",
              "    <tr>\n",
              "      <th>6</th>\n",
              "      <td>7</td>\n",
              "      <td>2980</td>\n",
              "      <td>1120</td>\n",
              "      <td>4780</td>\n",
              "      <td>8980</td>\n",
              "      <td>1780</td>\n",
              "      <td>1120</td>\n",
              "      <td>29550</td>\n",
              "      <td>295500</td>\n",
              "    </tr>\n",
              "    <tr>\n",
              "      <th>7</th>\n",
              "      <td>8</td>\n",
              "      <td>3700</td>\n",
              "      <td>1400</td>\n",
              "      <td>5860</td>\n",
              "      <td>9960</td>\n",
              "      <td>2860</td>\n",
              "      <td>1400</td>\n",
              "      <td>36140</td>\n",
              "      <td>361400</td>\n",
              "    </tr>\n",
              "    <tr>\n",
              "      <th>8</th>\n",
              "      <td>9</td>\n",
              "      <td>3540</td>\n",
              "      <td>1780</td>\n",
              "      <td>6100</td>\n",
              "      <td>8100</td>\n",
              "      <td>2100</td>\n",
              "      <td>1780</td>\n",
              "      <td>23400</td>\n",
              "      <td>234000</td>\n",
              "    </tr>\n",
              "    <tr>\n",
              "      <th>9</th>\n",
              "      <td>10</td>\n",
              "      <td>1990</td>\n",
              "      <td>1890</td>\n",
              "      <td>8300</td>\n",
              "      <td>10300</td>\n",
              "      <td>2300</td>\n",
              "      <td>1890</td>\n",
              "      <td>26670</td>\n",
              "      <td>266700</td>\n",
              "    </tr>\n",
              "    <tr>\n",
              "      <th>10</th>\n",
              "      <td>11</td>\n",
              "      <td>2340</td>\n",
              "      <td>2100</td>\n",
              "      <td>7300</td>\n",
              "      <td>13300</td>\n",
              "      <td>2400</td>\n",
              "      <td>2100</td>\n",
              "      <td>41280</td>\n",
              "      <td>412800</td>\n",
              "    </tr>\n",
              "    <tr>\n",
              "      <th>11</th>\n",
              "      <td>12</td>\n",
              "      <td>2900</td>\n",
              "      <td>1760</td>\n",
              "      <td>7400</td>\n",
              "      <td>14400</td>\n",
              "      <td>1800</td>\n",
              "      <td>1760</td>\n",
              "      <td>30020</td>\n",
              "      <td>300200</td>\n",
              "    </tr>\n",
              "  </tbody>\n",
              "</table>\n",
              "</div>\n",
              "      <button class=\"colab-df-convert\" onclick=\"convertToInteractive('df-ea0338cd-570a-4458-9fc8-7f8a6c1531ec')\"\n",
              "              title=\"Convert this dataframe to an interactive table.\"\n",
              "              style=\"display:none;\">\n",
              "        \n",
              "  <svg xmlns=\"http://www.w3.org/2000/svg\" height=\"24px\"viewBox=\"0 0 24 24\"\n",
              "       width=\"24px\">\n",
              "    <path d=\"M0 0h24v24H0V0z\" fill=\"none\"/>\n",
              "    <path d=\"M18.56 5.44l.94 2.06.94-2.06 2.06-.94-2.06-.94-.94-2.06-.94 2.06-2.06.94zm-11 1L8.5 8.5l.94-2.06 2.06-.94-2.06-.94L8.5 2.5l-.94 2.06-2.06.94zm10 10l.94 2.06.94-2.06 2.06-.94-2.06-.94-.94-2.06-.94 2.06-2.06.94z\"/><path d=\"M17.41 7.96l-1.37-1.37c-.4-.4-.92-.59-1.43-.59-.52 0-1.04.2-1.43.59L10.3 9.45l-7.72 7.72c-.78.78-.78 2.05 0 2.83L4 21.41c.39.39.9.59 1.41.59.51 0 1.02-.2 1.41-.59l7.78-7.78 2.81-2.81c.8-.78.8-2.07 0-2.86zM5.41 20L4 18.59l7.72-7.72 1.47 1.35L5.41 20z\"/>\n",
              "  </svg>\n",
              "      </button>\n",
              "      \n",
              "  <style>\n",
              "    .colab-df-container {\n",
              "      display:flex;\n",
              "      flex-wrap:wrap;\n",
              "      gap: 12px;\n",
              "    }\n",
              "\n",
              "    .colab-df-convert {\n",
              "      background-color: #E8F0FE;\n",
              "      border: none;\n",
              "      border-radius: 50%;\n",
              "      cursor: pointer;\n",
              "      display: none;\n",
              "      fill: #1967D2;\n",
              "      height: 32px;\n",
              "      padding: 0 0 0 0;\n",
              "      width: 32px;\n",
              "    }\n",
              "\n",
              "    .colab-df-convert:hover {\n",
              "      background-color: #E2EBFA;\n",
              "      box-shadow: 0px 1px 2px rgba(60, 64, 67, 0.3), 0px 1px 3px 1px rgba(60, 64, 67, 0.15);\n",
              "      fill: #174EA6;\n",
              "    }\n",
              "\n",
              "    [theme=dark] .colab-df-convert {\n",
              "      background-color: #3B4455;\n",
              "      fill: #D2E3FC;\n",
              "    }\n",
              "\n",
              "    [theme=dark] .colab-df-convert:hover {\n",
              "      background-color: #434B5C;\n",
              "      box-shadow: 0px 1px 3px 1px rgba(0, 0, 0, 0.15);\n",
              "      filter: drop-shadow(0px 1px 2px rgba(0, 0, 0, 0.3));\n",
              "      fill: #FFFFFF;\n",
              "    }\n",
              "  </style>\n",
              "\n",
              "      <script>\n",
              "        const buttonEl =\n",
              "          document.querySelector('#df-ea0338cd-570a-4458-9fc8-7f8a6c1531ec button.colab-df-convert');\n",
              "        buttonEl.style.display =\n",
              "          google.colab.kernel.accessAllowed ? 'block' : 'none';\n",
              "\n",
              "        async function convertToInteractive(key) {\n",
              "          const element = document.querySelector('#df-ea0338cd-570a-4458-9fc8-7f8a6c1531ec');\n",
              "          const dataTable =\n",
              "            await google.colab.kernel.invokeFunction('convertToInteractive',\n",
              "                                                     [key], {});\n",
              "          if (!dataTable) return;\n",
              "\n",
              "          const docLinkHtml = 'Like what you see? Visit the ' +\n",
              "            '<a target=\"_blank\" href=https://colab.research.google.com/notebooks/data_table.ipynb>data table notebook</a>'\n",
              "            + ' to learn more about interactive tables.';\n",
              "          element.innerHTML = '';\n",
              "          dataTable['output_type'] = 'display_data';\n",
              "          await google.colab.output.renderOutput(dataTable, element);\n",
              "          const docLink = document.createElement('div');\n",
              "          docLink.innerHTML = docLinkHtml;\n",
              "          element.appendChild(docLink);\n",
              "        }\n",
              "      </script>\n",
              "    </div>\n",
              "  </div>\n",
              "  "
            ]
          },
          "metadata": {},
          "execution_count": 281
        }
      ]
    },
    {
      "cell_type": "code",
      "source": [
        "x = df_2[\"month_number\"] \n",
        "y = df_2[\"total_profit\"]\n",
        "  \n",
        "plt.plot(x, y, color=\"red\", marker='o', linestyle='dotted', \n",
        "         label='profit', linewidth=3)\n",
        "\n",
        "plt.title(\"Unidades vendidas vs. Mes\") \n",
        "plt.xlabel(\"Número de Mes\") \n",
        "plt.ylabel(\"Número de unidades vendidas\")\n",
        "plt.legend(title=\"Unidades vendidas\", loc='lower right')"
      ],
      "metadata": {
        "colab": {
          "base_uri": "https://localhost:8080/",
          "height": 312
        },
        "id": "q_XQcJ9nQVuq",
        "outputId": "9a12a756-61cf-41bf-aabd-7895587c27be"
      },
      "execution_count": null,
      "outputs": [
        {
          "output_type": "execute_result",
          "data": {
            "text/plain": [
              "<matplotlib.legend.Legend at 0x7fd3ca9f4c10>"
            ]
          },
          "metadata": {},
          "execution_count": 282
        },
        {
          "output_type": "display_data",
          "data": {
            "text/plain": [
              "<Figure size 432x288 with 1 Axes>"
            ],
            "image/png": "[encoded data removed]"
          },
          "metadata": {
            "needs_background": "light"
          }
        }
      ]
    },
    {
      "cell_type": "markdown",
      "source": [
        "b) Leer los datos de las ventas de crema para dientes de cada mes y mostrarlos mediante un gráfico de dispersión (scatterplot). Además, añada una cuadrícula (grid) en el gráfico. El estilo de la cuadrícula (grid) debe ser \"-\".\n",
        "\n",
        "\n"
      ],
      "metadata": {
        "id": "mvoGlk67KHDx"
      }
    },
    {
      "cell_type": "code",
      "source": [
        "x = df_2[\"month_number\"] \n",
        "y = df_2[\"toothpaste\"]\n",
        "  \n",
        "plt.scatter(x, y, color=\"green\", marker=\"*\")\n",
        "\n",
        "plt.title(\"Unidades vendidas de crema dental vs. Mes\") \n",
        "plt.xlabel(\"Número de Mes\") \n",
        "plt.ylabel(\"Número de unidades vendidas\")\n",
        "plt.grid(linestyle='-')"
      ],
      "metadata": {
        "colab": {
          "base_uri": "https://localhost:8080/",
          "height": 295
        },
        "id": "nimBy3DSSHi1",
        "outputId": "f2059f04-6163-4d95-f390-3005f9a01cd3"
      },
      "execution_count": null,
      "outputs": [
        {
          "output_type": "display_data",
          "data": {
            "text/plain": [
              "<Figure size 432x288 with 1 Axes>"
            ],
            "image/png": "[encoded data removed]"
          },
          "metadata": {
            "needs_background": "light"
          }
        }
      ]
    },
    {
      "cell_type": "markdown",
      "source": [
        "c)  Leer el jabón de baño y el lavado de cara de todos los meses y visualícelo mediante el tipo de grafico Subplot"
      ],
      "metadata": {
        "id": "hHs87BY6KI2L"
      }
    },
    {
      "cell_type": "code",
      "source": [
        "df_2[['facecream', 'facewash']].plot.pie(figsize=(20, 30), subplots=True)\n"
      ],
      "metadata": {
        "colab": {
          "base_uri": "https://localhost:8080/",
          "height": 590
        },
        "id": "-rzrxdtlSvIh",
        "outputId": "3463aeb6-6271-4363-b7ac-15a0d2c44960"
      },
      "execution_count": null,
      "outputs": [
        {
          "output_type": "execute_result",
          "data": {
            "text/plain": [
              "array([<matplotlib.axes._subplots.AxesSubplot object at 0x7fd3c629d340>,\n",
              "       <matplotlib.axes._subplots.AxesSubplot object at 0x7fd3c62c7940>],\n",
              "      dtype=object)"
            ]
          },
          "metadata": {},
          "execution_count": 284
        },
        {
          "output_type": "display_data",
          "data": {
            "text/plain": [
              "<Figure size 1440x2160 with 2 Axes>"
            ],
            "image/png": "[encoded data removed]"
          },
          "metadata": {}
        }
      ]
    }
  ]
}